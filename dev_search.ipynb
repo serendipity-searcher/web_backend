{
 "cells": [
  {
   "cell_type": "code",
   "execution_count": 16,
   "id": "f9f90423-4551-43b1-a5f9-f4792369663e",
   "metadata": {},
   "outputs": [
    {
     "name": "stdout",
     "output_type": "stream",
     "text": [
      "WARNING: ./data/images/DMG is empty! Is the path correct?\n",
      "image paths loaded...\n"
     ]
    },
    {
     "name": "stderr",
     "output_type": "stream",
     "text": [
      "100%|█████████████████████████████████████████████████████████████████████| 24824/24824 [00:00<00:00, 674208.73it/s]\n"
     ]
    }
   ],
   "source": [
    "from tqdm import tqdm\n",
    "tqdm.pandas()\n",
    "from glob import glob\n",
    "\n",
    "import json\n",
    "import csv\n",
    "import numpy as np\n",
    "import pandas as pd\n",
    "from collections import Counter\n",
    "\n",
    "import rdflib\n",
    "from rdflib import Graph\n",
    "from data.data import CollectionAccessor, ImageHandler, EmbeddingSpaceAccessor\n",
    "\n",
    "from search import Search, Randomiser, GraphSearcher, EmbeddingSearcher\n",
    "\n",
    "def init_DMG():\n",
    "    image_folder = \"./data/images/DMG\"\n",
    "    image_handler = ImageHandler(image_folder=image_folder, keep_prefix=True)\n",
    "    print(\"image paths loaded...\")\n",
    "\n",
    "    time_stamp, pub_file, priv_file = CollectionAccessor.get_latest_dump(\"./data/dumps\")\n",
    "    # print(CollectionAccessor.get_latest_dump(\"./data/dumps\"))\n",
    "\n",
    "    \n",
    "    dmg_meta = dict(name=\"Design Museum Gent (public & private)\", id_=\"DMG_\"+time_stamp,\n",
    "                creation_timestamp=time_stamp)\n",
    "    df = CollectionAccessor.get_DMG(pub_path=pub_file, #get_latest(\"./data/dumps\", contains=\"public\"),\n",
    "                                     priv_path=priv_file, #get_latest(\"./data/dumps\", contains=\"private\"),\n",
    "                                     rights_path=\"./data/rights.csv\",\n",
    "                                     image_handler=image_handler,\n",
    "                                     **dmg_meta)\n",
    "    return image_handler, df\n",
    "\n",
    "im, dmg = init_DMG()"
   ]
  },
  {
   "cell_type": "code",
   "execution_count": 18,
   "id": "c9ff85fe-9291-427d-8bed-895239093649",
   "metadata": {},
   "outputs": [
    {
     "name": "stderr",
     "output_type": "stream",
     "text": [
      "[GraphSearcher]: building graph...: 100%|███████████████████████████████████| 24824/24824 [00:02<00:00, 8471.48it/s]\n",
      "[GraphSearcher]: building graph...: 100%|███████████████████████████████████| 24824/24824 [00:05<00:00, 4684.80it/s]\n"
     ]
    }
   ],
   "source": [
    "kg_searcher = GraphSearcher(dmg)\n",
    "sem_embs = EmbeddingSpaceAccessor.load(\"data/generated_data/distiluse-base-multilingual-cased-v2\",\n",
    "                                       loadXD=13)\n",
    "sem_searcher = EmbeddingSearcher(sem_embs, name=\"SemanticSearcher\")\n",
    "    \n",
    "viz_embs = EmbeddingSpaceAccessor.load(\"data/generated_data/vitmae\", loadXD=13)\n",
    "viz_searcher = EmbeddingSearcher(viz_embs, name=\"VisualSearcher\")\n",
    "\n",
    "s = Search([kg_searcher, sem_searcher, viz_searcher])"
   ]
  },
  {
   "cell_type": "code",
   "execution_count": 48,
   "id": "efdda99b-963a-4bb1-8485-bc97247f4a42",
   "metadata": {},
   "outputs": [
    {
     "data": {
      "text/plain": [
       "[<search.GraphSearcher at 0x7f56928fb890>,\n",
       " <search.EmbeddingSearcher at 0x7f56a2b952b0>,\n",
       " <search.EmbeddingSearcher at 0x7f569c0cd7f0>]"
      ]
     },
     "execution_count": 48,
     "metadata": {},
     "output_type": "execute_result"
    }
   ],
   "source": [
    "searcher_ids = [searcher.id for searcher in s.searchers]\n",
    "cur_searchers = [s for s in s.searchers for s_id in searcher_ids if s.id == s_id]\n",
    "\n",
    "cur_searchers"
   ]
  },
  {
   "cell_type": "code",
   "execution_count": 45,
   "id": "cbb9f417-ed1a-40ab-bf7d-d009bc2c331a",
   "metadata": {},
   "outputs": [
    {
     "ename": "KeyError",
     "evalue": "\"None of [Index(['2002-0023_4-7', '2005-0012_0-3', '1995-0030_4-5', '2009-0075_3-5'], dtype='object', name='object_number')] are in the [index]\"",
     "output_type": "error",
     "traceback": [
      "\u001b[0;31m---------------------------------------------------------------------------\u001b[0m",
      "\u001b[0;31mKeyError\u001b[0m                                  Traceback (most recent call last)",
      "Cell \u001b[0;32mIn[45], line 6\u001b[0m\n\u001b[1;32m      4\u001b[0m searcher_scores \u001b[38;5;241m=\u001b[39m [s(recs) \u001b[38;5;28;01mfor\u001b[39;00m s \u001b[38;5;129;01min\u001b[39;00m []]\u001b[38;5;66;03m# self.searchers]\u001b[39;00m\n\u001b[1;32m      5\u001b[0m searcher_scores \u001b[38;5;241m=\u001b[39m pd\u001b[38;5;241m.\u001b[39mDataFrame({s\u001b[38;5;241m.\u001b[39mname: s \u001b[38;5;28;01mfor\u001b[39;00m s \u001b[38;5;129;01min\u001b[39;00m searcher_scores})\n\u001b[0;32m----> 6\u001b[0m \u001b[43msearcher_scores\u001b[49m\u001b[38;5;241;43m.\u001b[39;49m\u001b[43mloc\u001b[49m\u001b[43m[\u001b[49m\u001b[43mrecs\u001b[49m\u001b[38;5;241;43m.\u001b[39;49m\u001b[43mindex\u001b[49m\u001b[43m]\u001b[49m \u001b[38;5;241m=\u001b[39m \u001b[38;5;241m0.\u001b[39m\n",
      "File \u001b[0;32m~/home2-env/lib/python3.12/site-packages/pandas/core/indexing.py:907\u001b[0m, in \u001b[0;36m_LocationIndexer.__setitem__\u001b[0;34m(self, key, value)\u001b[0m\n\u001b[1;32m    905\u001b[0m     maybe_callable \u001b[38;5;241m=\u001b[39m com\u001b[38;5;241m.\u001b[39mapply_if_callable(key, \u001b[38;5;28mself\u001b[39m\u001b[38;5;241m.\u001b[39mobj)\n\u001b[1;32m    906\u001b[0m     key \u001b[38;5;241m=\u001b[39m \u001b[38;5;28mself\u001b[39m\u001b[38;5;241m.\u001b[39m_check_deprecated_callable_usage(key, maybe_callable)\n\u001b[0;32m--> 907\u001b[0m indexer \u001b[38;5;241m=\u001b[39m \u001b[38;5;28;43mself\u001b[39;49m\u001b[38;5;241;43m.\u001b[39;49m\u001b[43m_get_setitem_indexer\u001b[49m\u001b[43m(\u001b[49m\u001b[43mkey\u001b[49m\u001b[43m)\u001b[49m\n\u001b[1;32m    908\u001b[0m \u001b[38;5;28mself\u001b[39m\u001b[38;5;241m.\u001b[39m_has_valid_setitem_indexer(key)\n\u001b[1;32m    910\u001b[0m iloc \u001b[38;5;241m=\u001b[39m \u001b[38;5;28mself\u001b[39m \u001b[38;5;28;01mif\u001b[39;00m \u001b[38;5;28mself\u001b[39m\u001b[38;5;241m.\u001b[39mname \u001b[38;5;241m==\u001b[39m \u001b[38;5;124m\"\u001b[39m\u001b[38;5;124miloc\u001b[39m\u001b[38;5;124m\"\u001b[39m \u001b[38;5;28;01melse\u001b[39;00m \u001b[38;5;28mself\u001b[39m\u001b[38;5;241m.\u001b[39mobj\u001b[38;5;241m.\u001b[39miloc\n",
      "File \u001b[0;32m~/home2-env/lib/python3.12/site-packages/pandas/core/indexing.py:780\u001b[0m, in \u001b[0;36m_LocationIndexer._get_setitem_indexer\u001b[0;34m(self, key)\u001b[0m\n\u001b[1;32m    776\u001b[0m \u001b[38;5;28;01mif\u001b[39;00m \u001b[38;5;28misinstance\u001b[39m(key, \u001b[38;5;28mrange\u001b[39m):\n\u001b[1;32m    777\u001b[0m     \u001b[38;5;66;03m# GH#45479 test_loc_setitem_range_key\u001b[39;00m\n\u001b[1;32m    778\u001b[0m     key \u001b[38;5;241m=\u001b[39m \u001b[38;5;28mlist\u001b[39m(key)\n\u001b[0;32m--> 780\u001b[0m \u001b[38;5;28;01mreturn\u001b[39;00m \u001b[38;5;28;43mself\u001b[39;49m\u001b[38;5;241;43m.\u001b[39;49m\u001b[43m_convert_to_indexer\u001b[49m\u001b[43m(\u001b[49m\u001b[43mkey\u001b[49m\u001b[43m,\u001b[49m\u001b[43m \u001b[49m\u001b[43maxis\u001b[49m\u001b[38;5;241;43m=\u001b[39;49m\u001b[38;5;241;43m0\u001b[39;49m\u001b[43m)\u001b[49m\n",
      "File \u001b[0;32m~/home2-env/lib/python3.12/site-packages/pandas/core/indexing.py:1522\u001b[0m, in \u001b[0;36m_LocIndexer._convert_to_indexer\u001b[0;34m(self, key, axis)\u001b[0m\n\u001b[1;32m   1520\u001b[0m         \u001b[38;5;28;01mreturn\u001b[39;00m key\n\u001b[1;32m   1521\u001b[0m     \u001b[38;5;28;01melse\u001b[39;00m:\n\u001b[0;32m-> 1522\u001b[0m         \u001b[38;5;28;01mreturn\u001b[39;00m \u001b[38;5;28;43mself\u001b[39;49m\u001b[38;5;241;43m.\u001b[39;49m\u001b[43m_get_listlike_indexer\u001b[49m\u001b[43m(\u001b[49m\u001b[43mkey\u001b[49m\u001b[43m,\u001b[49m\u001b[43m \u001b[49m\u001b[43maxis\u001b[49m\u001b[43m)\u001b[49m[\u001b[38;5;241m1\u001b[39m]\n\u001b[1;32m   1523\u001b[0m \u001b[38;5;28;01melse\u001b[39;00m:\n\u001b[1;32m   1524\u001b[0m     \u001b[38;5;28;01mtry\u001b[39;00m:\n",
      "File \u001b[0;32m~/home2-env/lib/python3.12/site-packages/pandas/core/indexing.py:1558\u001b[0m, in \u001b[0;36m_LocIndexer._get_listlike_indexer\u001b[0;34m(self, key, axis)\u001b[0m\n\u001b[1;32m   1555\u001b[0m ax \u001b[38;5;241m=\u001b[39m \u001b[38;5;28mself\u001b[39m\u001b[38;5;241m.\u001b[39mobj\u001b[38;5;241m.\u001b[39m_get_axis(axis)\n\u001b[1;32m   1556\u001b[0m axis_name \u001b[38;5;241m=\u001b[39m \u001b[38;5;28mself\u001b[39m\u001b[38;5;241m.\u001b[39mobj\u001b[38;5;241m.\u001b[39m_get_axis_name(axis)\n\u001b[0;32m-> 1558\u001b[0m keyarr, indexer \u001b[38;5;241m=\u001b[39m \u001b[43max\u001b[49m\u001b[38;5;241;43m.\u001b[39;49m\u001b[43m_get_indexer_strict\u001b[49m\u001b[43m(\u001b[49m\u001b[43mkey\u001b[49m\u001b[43m,\u001b[49m\u001b[43m \u001b[49m\u001b[43maxis_name\u001b[49m\u001b[43m)\u001b[49m\n\u001b[1;32m   1560\u001b[0m \u001b[38;5;28;01mreturn\u001b[39;00m keyarr, indexer\n",
      "File \u001b[0;32m~/home2-env/lib/python3.12/site-packages/pandas/core/indexes/base.py:6200\u001b[0m, in \u001b[0;36mIndex._get_indexer_strict\u001b[0;34m(self, key, axis_name)\u001b[0m\n\u001b[1;32m   6197\u001b[0m \u001b[38;5;28;01melse\u001b[39;00m:\n\u001b[1;32m   6198\u001b[0m     keyarr, indexer, new_indexer \u001b[38;5;241m=\u001b[39m \u001b[38;5;28mself\u001b[39m\u001b[38;5;241m.\u001b[39m_reindex_non_unique(keyarr)\n\u001b[0;32m-> 6200\u001b[0m \u001b[38;5;28;43mself\u001b[39;49m\u001b[38;5;241;43m.\u001b[39;49m\u001b[43m_raise_if_missing\u001b[49m\u001b[43m(\u001b[49m\u001b[43mkeyarr\u001b[49m\u001b[43m,\u001b[49m\u001b[43m \u001b[49m\u001b[43mindexer\u001b[49m\u001b[43m,\u001b[49m\u001b[43m \u001b[49m\u001b[43maxis_name\u001b[49m\u001b[43m)\u001b[49m\n\u001b[1;32m   6202\u001b[0m keyarr \u001b[38;5;241m=\u001b[39m \u001b[38;5;28mself\u001b[39m\u001b[38;5;241m.\u001b[39mtake(indexer)\n\u001b[1;32m   6203\u001b[0m \u001b[38;5;28;01mif\u001b[39;00m \u001b[38;5;28misinstance\u001b[39m(key, Index):\n\u001b[1;32m   6204\u001b[0m     \u001b[38;5;66;03m# GH 42790 - Preserve name from an Index\u001b[39;00m\n",
      "File \u001b[0;32m~/home2-env/lib/python3.12/site-packages/pandas/core/indexes/base.py:6249\u001b[0m, in \u001b[0;36mIndex._raise_if_missing\u001b[0;34m(self, key, indexer, axis_name)\u001b[0m\n\u001b[1;32m   6247\u001b[0m \u001b[38;5;28;01mif\u001b[39;00m nmissing:\n\u001b[1;32m   6248\u001b[0m     \u001b[38;5;28;01mif\u001b[39;00m nmissing \u001b[38;5;241m==\u001b[39m \u001b[38;5;28mlen\u001b[39m(indexer):\n\u001b[0;32m-> 6249\u001b[0m         \u001b[38;5;28;01mraise\u001b[39;00m \u001b[38;5;167;01mKeyError\u001b[39;00m(\u001b[38;5;124mf\u001b[39m\u001b[38;5;124m\"\u001b[39m\u001b[38;5;124mNone of [\u001b[39m\u001b[38;5;132;01m{\u001b[39;00mkey\u001b[38;5;132;01m}\u001b[39;00m\u001b[38;5;124m] are in the [\u001b[39m\u001b[38;5;132;01m{\u001b[39;00maxis_name\u001b[38;5;132;01m}\u001b[39;00m\u001b[38;5;124m]\u001b[39m\u001b[38;5;124m\"\u001b[39m)\n\u001b[1;32m   6251\u001b[0m     not_found \u001b[38;5;241m=\u001b[39m \u001b[38;5;28mlist\u001b[39m(ensure_index(key)[missing_mask\u001b[38;5;241m.\u001b[39mnonzero()[\u001b[38;5;241m0\u001b[39m]]\u001b[38;5;241m.\u001b[39munique())\n\u001b[1;32m   6252\u001b[0m     \u001b[38;5;28;01mraise\u001b[39;00m \u001b[38;5;167;01mKeyError\u001b[39;00m(\u001b[38;5;124mf\u001b[39m\u001b[38;5;124m\"\u001b[39m\u001b[38;5;132;01m{\u001b[39;00mnot_found\u001b[38;5;132;01m}\u001b[39;00m\u001b[38;5;124m not in index\u001b[39m\u001b[38;5;124m\"\u001b[39m)\n",
      "\u001b[0;31mKeyError\u001b[0m: \"None of [Index(['2002-0023_4-7', '2005-0012_0-3', '1995-0030_4-5', '2009-0075_3-5'], dtype='object', name='object_number')] are in the [index]\""
     ]
    }
   ],
   "source": [
    "recs = dmg.sample(4)\n",
    "cur_searchers = s.searchers\n",
    "\n",
    "searcher_scores = [s(recs) for s in []]# self.searchers]\n",
    "searcher_scores = pd.DataFrame({s.name: s for s in searcher_scores})\n",
    "searcher_scores.loc[recs.index] = 0.\n"
   ]
  },
  {
   "cell_type": "code",
   "execution_count": 43,
   "id": "f507868b-ced2-4eaf-bfde-7c63316eb15b",
   "metadata": {},
   "outputs": [
    {
     "data": {
      "text/plain": [
       "<Axes: >"
      ]
     },
     "execution_count": 43,
     "metadata": {},
     "output_type": "execute_result"
    },
    {
     "data": {
      "image/png": "[encoded data removed]",
      "text/plain": [
       "<Figure size 640x480 with 1 Axes>"
      ]
     },
     "metadata": {},
     "output_type": "display_data"
    }
   ],
   "source": [
    "def unit_norm(scores):\n",
    "    return scores/scores.sum()\n",
    "\n",
    "normed_scores = (searcher_scores/searcher_scores.sum(0))\n",
    "\n",
    "# 1/len(searcher_scores)\n",
    "\n",
    "\n",
    "normed_scores.mean(axis=1).hist(histtype=\"step\")\n",
    "unit_norm(searcher_scores.mean(axis=1)).hist(histtype=\"step\")"
   ]
  },
  {
   "cell_type": "code",
   "execution_count": null,
   "id": "687ebf33-2acf-424b-b04c-6c56fae7f6f0",
   "metadata": {},
   "outputs": [],
   "source": [
    "pd.Series([v for _ in tqdm(range(50)) for v in kg(dmg.sample(6))]).value_counts().sort_index()"
   ]
  },
  {
   "cell_type": "markdown",
   "id": "6d892c42-7ca4-4f5c-94c2-39dfdf2e0bca",
   "metadata": {},
   "source": [
    "---"
   ]
  },
  {
   "cell_type": "code",
   "execution_count": null,
   "id": "5d969542-1444-49ea-9b20-a54269c05d94",
   "metadata": {},
   "outputs": [],
   "source": [
    "import networkx as nx\n",
    "class GraphSearcher():#Searcher):\n",
    "    @staticmethod\n",
    "    def iter_values(r):\n",
    "        for v in r:\n",
    "            if isinstance(v, list): yield from v\n",
    "            elif v: yield v\n",
    "            else: pass\n",
    "    \n",
    "    def _build(self, collection):\n",
    "        # pbar = tqdm(collection[self.cats].iterrows(), \n",
    "        #             total=len(collection), desc='[GraphSearcher]: building graph...')\n",
    "        pbar = collection[self.cats].iterrows()\n",
    "        cat_obj_links = [(r.name, v) for i, r in pbar for v in GraphSearcher.iter_values(r)]\n",
    "        \n",
    "        # pbar = tqdm(collection[self.cats].iterrows(), \n",
    "        #             total=len(collection), desc='[GraphSearcher]: building graph...')\n",
    "        pbar = collection[self.cats].iterrows()\n",
    "        cat_cat_links = [tuple(sorted((v1, v2)))for i, r in pbar \n",
    "                         for v1 in GraphSearcher.iter_values(r) for v2 in GraphSearcher.iter_values(r) \n",
    "                         if (v1 and v2) and (not v1 == v2)]\n",
    "        return nx.from_edgelist(cat_obj_links+list(set(cat_cat_links)))\n",
    "    \n",
    "    def __init__(self, coll, cats=None, name=\"KGSearcher\"):\n",
    "        # super().__init__(name)    \n",
    "        \n",
    "        self.obj_nodes = set(coll.index)\n",
    "        self.cats = cats if (cats is not None) else coll.coll.categorical_cols.keys()\n",
    "        self.G = self._build(coll)\n",
    "        self.id = \"KG\"\n",
    "\n",
    "    \n",
    "    def __call__(self, records):\n",
    "        assert all((obj_num in self.obj_nodes) for obj_num in records.index)\n",
    "        \n",
    "        dists = [nx.shortest_path_length(self.G, source=objnum, target=None) for objnum in records.index]\n",
    "\n",
    "        raw_scores = pd.Series([np.mean([(d[obj_num] if obj_num in d else 100) for d in dists]) \n",
    "                                for obj_num in self.obj_nodes], \n",
    "                       index=self.obj_nodes, name=self.id)\n",
    "        return raw_scores #self.dist2sim(raw_scores)\n",
    "\n",
    "    @staticmethod\n",
    "    def unit_norm(s):\n",
    "        unit_normed = (s - s.min())/(s.max()- s.min())\n",
    "        return unit_normed #/unit_normed.sum()\n",
    "\n",
    "    @staticmethod\n",
    "    def dist2sim(d):\n",
    "        return GraphSearcher.unit_norm(d.max() - d)\n"
   ]
  },
  {
   "cell_type": "code",
   "execution_count": null,
   "id": "2a80a0fa-217f-4d35-8759-73f4eaba6fca",
   "metadata": {
    "scrolled": true
   },
   "outputs": [],
   "source": [
    "cs = ['objectname_URI', 'material_URI', 'part_label', 'part_material_URI', 'maker_URI', 'coiner_URI']\n",
    "kg = GraphSearcher(dmg, cats=cs)\n",
    "kg(dmg.sample(6)).value_counts()"
   ]
  },
  {
   "cell_type": "code",
   "execution_count": null,
   "id": "612aa9e8-6e0e-4b48-a9eb-6252a133a72d",
   "metadata": {},
   "outputs": [],
   "source": [
    "from itertools import combinations\n",
    "len(list(combinations(range(10), 7)))"
   ]
  },
  {
   "cell_type": "code",
   "execution_count": null,
   "id": "f4617757-6d4e-4d7d-9f97-a0ef9fe4c0d6",
   "metadata": {
    "scrolled": true
   },
   "outputs": [],
   "source": [
    "from itertools import combinations\n",
    "combs = combinations(dmg.coll.categorical_cols.keys(), 7)\n",
    "for cur_cs in tqdm(combs):\n",
    "    print(cur_cs)\n",
    "    kg = GraphSearcher(dmg, cats=list(cur_cs))\n",
    "    \n",
    "\n",
    "    vals = kg(dmg.sample(6)).value_counts()\n",
    "    if len(vals) > 4 and vals.iloc[0] < 12000:\n",
    "        print(cur_cs)\n",
    "        print(vals, \"\\n\\n\\n\")"
   ]
  },
  {
   "cell_type": "code",
   "execution_count": null,
   "id": "c981eb59-2f30-4562-8309-34655af6bf91",
   "metadata": {},
   "outputs": [],
   "source": [
    "pbar = tqdm(dmg[dmg.coll.categorical_cols.keys()].iterrows(), \n",
    "                    total=len(dmg), desc='[GraphSearcher]: building graph...')\n",
    "cat_obj_links = [(r.name, v) for i, r in pbar for v in GraphSearcher.iter_values(r) if v]"
   ]
  },
  {
   "cell_type": "code",
   "execution_count": null,
   "id": "28d181a4-9276-49a8-8ff0-7e9a5011e9ad",
   "metadata": {},
   "outputs": [],
   "source": [
    "# len(cat_obj_links), cat_obj_links[:10]\n",
    "\n",
    "len(kg.G.nodes)"
   ]
  },
  {
   "cell_type": "code",
   "execution_count": null,
   "id": "74b9f24e-c0ae-458f-8394-3fee519bde0b",
   "metadata": {
    "scrolled": true
   },
   "outputs": [],
   "source": [
    "for c in dmg.coll.categorical_cols.keys():\n",
    "    print(c)\n",
    "    print(pd.Series(\n",
    "        [v for row in dmg[c] for v in (row if isinstance(row, list) else [row]) if v]\n",
    "    ).value_counts().iloc[:3])\n",
    "    print(\"\\n\\n\")"
   ]
  },
  {
   "cell_type": "markdown",
   "id": "a158fb36-63f1-4482-ba12-1b08db8ab496",
   "metadata": {},
   "source": [
    "---\n",
    "# EMBEDDINGS"
   ]
  },
  {
   "cell_type": "code",
   "execution_count": null,
   "id": "db17b043-b954-42e3-8bc1-115f62b23f34",
   "metadata": {},
   "outputs": [],
   "source": [
    "# from data import EmbeddingSpaceAccessor\n",
    "# import umap.umap_ as umap\n",
    "\n",
    "# sem_emb_dir = \"./distiluse-base-multilingual-cased-v2_embeddings/\"\n",
    "# sem_emb = EmbeddingSpaceAccessor.load(sem_emb_dir, loadXD=None, index_col=\"record_id\", )\n",
    "\n",
    "# n_c = 32\n",
    "# reducer = umap.UMAP(metric=\"cosine\", n_neighbors=10, min_dist=(sem_emb.values.var()**0.5/2), n_components=n_c)\n",
    "# red_embs = pd.DataFrame(reducer.fit_transform(sem_emb.to_numpy()), index=sem_emb.index)\n",
    "# red_embs.to_csv(f\"{sem_emb_dir}/embs_umap_{n_c}D.csv\")"
   ]
  },
  {
   "cell_type": "code",
   "execution_count": null,
   "id": "48a52275-bde3-4fe1-b5e6-cc3407f66aa1",
   "metadata": {},
   "outputs": [],
   "source": [
    "vis_embs = EmbeddingSpaceAccessor.load(\"./data/generated_data/vitmae\")"
   ]
  },
  {
   "cell_type": "code",
   "execution_count": null,
   "id": "e3ae8e3f-843e-468d-b745-81efdce07859",
   "metadata": {},
   "outputs": [],
   "source": [
    "vis_embs"
   ]
  },
  {
   "cell_type": "code",
   "execution_count": null,
   "id": "470b8c44-3630-44a4-9d7a-e1e4d5e9fce1",
   "metadata": {},
   "outputs": [],
   "source": [
    "red_embs = vis_embs.emb_space.umap(save_to=\"./data/generated_data/vitmae/embeddings_32.csv\")"
   ]
  },
  {
   "cell_type": "code",
   "execution_count": null,
   "id": "a07be800-5395-42fd-b0a4-7408bda02918",
   "metadata": {},
   "outputs": [],
   "source": [
    "from search import EmbeddingSearcher\n",
    "\n",
    "\n",
    "vs = EmbeddingSearcher(red_embs, name=\"VisualSearcher\")"
   ]
  },
  {
   "cell_type": "code",
   "execution_count": null,
   "id": "6bef3d3a-b074-4076-ac38-9da3897f9fab",
   "metadata": {},
   "outputs": [],
   "source": [
    "vs(dmg.sample(4)).hist()"
   ]
  },
  {
   "cell_type": "code",
   "execution_count": null,
   "id": "d55df66a-bb65-416c-a713-9761ec729574",
   "metadata": {},
   "outputs": [],
   "source": [
    "# import umap.umap_ as umap\n",
    "\n",
    "# k = -1\n",
    "# data = vis_embs.iloc[:k].to_numpy()\n",
    "# default_params = dict(metric=\"cosine\", n_neighbors=10, \n",
    "#                     min_dist=(data.var()**0.5/5), spread=40, n_components=2)\n",
    "\n",
    "# print(default_params[\"min_dist\"])\n",
    "# # default_params.update(umap_params)\n",
    "# reducer = umap.UMAP(**default_params)\n",
    "# red_embs = pd.DataFrame(reducer.fit_transform(data), index=vis_embs.index[:k])\n",
    "# # if save_to is not None:\n",
    "# #     red_embs.to_csv(save_to, index=True, sep=(\"\\t\" if to_tsv else \",\"))\n"
   ]
  },
  {
   "cell_type": "code",
   "execution_count": null,
   "id": "6be9fc1c-d607-4404-a805-370ec243c251",
   "metadata": {},
   "outputs": [],
   "source": [
    "import matplotlib.pyplot as plt\n",
    "\n",
    "plt.plot(red_embs.values.T[0], red_embs.values.T[1], \".\")"
   ]
  },
  {
   "cell_type": "markdown",
   "id": "54fb3553-3d16-4cce-a0fd-712d9da13699",
   "metadata": {},
   "source": [
    "### semantic embeddings"
   ]
  },
  {
   "cell_type": "code",
   "execution_count": null,
   "id": "4489e550-335b-4639-b38e-5007ea910e7d",
   "metadata": {},
   "outputs": [],
   "source": [
    "sem_embs = EmbeddingSpaceAccessor.load(\"./data/generated_data/distiluse-base-multilingual-cased-v2/\")"
   ]
  },
  {
   "cell_type": "code",
   "execution_count": null,
   "id": "09d90b39-95a5-4c49-b47e-d8af4fef6361",
   "metadata": {},
   "outputs": [],
   "source": [
    "red_embs = sem_embs.emb_space.umap(save_to=\"./data/generated_data/distiluse-base-multilingual-cased-v2/embeddings_32.csv\")"
   ]
  },
  {
   "cell_type": "markdown",
   "id": "2f2c5de9-0690-4655-8b33-438b56468d22",
   "metadata": {},
   "source": [
    "---\n",
    "# concept search"
   ]
  },
  {
   "cell_type": "code",
   "execution_count": 2,
   "id": "bfab73af-e3c4-4fd9-9d70-796e70653b32",
   "metadata": {},
   "outputs": [],
   "source": [
    "from search import TextEmbeddingSearcher"
   ]
  },
  {
   "cell_type": "code",
   "execution_count": 3,
   "id": "13b03544-6a98-43ed-bc13-5d30b6ff941a",
   "metadata": {},
   "outputs": [],
   "source": [
    "sem_embs = EmbeddingSpaceAccessor.load(\"data/generated_data/distiluse-base-multilingual-cased-v2/\",\n",
    "                                       loadXD=None)"
   ]
  },
  {
   "cell_type": "code",
   "execution_count": 4,
   "id": "67475146-dcac-4bb9-82c4-0f8b2dfd316c",
   "metadata": {},
   "outputs": [
    {
     "name": "stderr",
     "output_type": "stream",
     "text": [
      "/home/valentin/home2-env/lib/python3.12/site-packages/transformers/tokenization_utils_base.py:1601: FutureWarning: `clean_up_tokenization_spaces` was not set. It will be set to `True` by default. This behavior will be depracted in transformers v4.45, and will be then set to `False` by default. For more details check this issue: https://github.com/huggingface/transformers/issues/31884\n",
      "  warnings.warn(\n"
     ]
    }
   ],
   "source": [
    "ts = TextEmbeddingSearcher(sem_embs)"
   ]
  },
  {
   "cell_type": "code",
   "execution_count": 24,
   "id": "c69d41a8-2e9a-4f64-9001-c36465473b18",
   "metadata": {},
   "outputs": [
    {
     "data": {
      "text/plain": [
       "object_number\n",
       "2008-0151                      Eikenhouten stoel met smalle rugleuning\n",
       "2011-0055                                                 Tivoli chair\n",
       "1986-0054_06-10                             stoel uit eetkamerensemble\n",
       "1986-0054_04-10                             stoel uit eetkamerensemble\n",
       "1986-0054_03-10                             stoel uit eetkamerensemble\n",
       "1986-0054_02-10                             stoel uit eetkamerensemble\n",
       "1986-0054_01-10                             stoel uit eetkamerensemble\n",
       "2016-0004_1-2                                                   chaise\n",
       "1995-0006_ARCHIEF                                                stoel\n",
       "1834                                    Rieten 'fauteuil en cabriolet'\n",
       "2010-0008                                                 Bronto chair\n",
       "3691                                                Poot van een zetel\n",
       "1999-0073                                                 Oyster chair\n",
       "1996-0021                                                 T-bOne chair\n",
       "1999-0074                                 Burghley armchair with skirt\n",
       "FH-0088                                                  zittende faun\n",
       "3167                                                      Rieten stoel\n",
       "2021-0023                                                   Flax Chair\n",
       "DMG_T_00212_0-3      verzameling van stoel en armstoel gemaakt van ...\n",
       "2000-0007                                                  Horns Chair\n",
       "dtype: object"
      ]
     },
     "execution_count": 24,
     "metadata": {},
     "output_type": "execute_result"
    }
   ],
   "source": [
    "dmg.loc[ts(\"stoel met rugleuning\").sort_values()[::-1].index[:20]].coll.get_texts()"
   ]
  },
  {
   "cell_type": "code",
   "execution_count": null,
   "id": "c868b454-efcf-40b9-ab88-bfce7932e74d",
   "metadata": {},
   "outputs": [],
   "source": [
    "import torch\n",
    "vec = ts.embedder.encode(\"serendipity\")\n",
    "vec = torch.as_tensor(vec).double()\n",
    "sims = pd.Series(ts.rank_vector(vec), index=ts.space.index, name=ts.id)\n",
    "sims.sort_values()[::-1][:100]"
   ]
  },
  {
   "cell_type": "code",
   "execution_count": null,
   "id": "388ed7f2-a087-4680-adf2-0e43a848a6cb",
   "metadata": {},
   "outputs": [],
   "source": [
    "dmg.loc[sims.sort_values()[::-1].index[:100]].coll.get_texts()"
   ]
  },
  {
   "cell_type": "code",
   "execution_count": null,
   "id": "a009daa2-9a77-4292-98ed-5a4b2306dc84",
   "metadata": {},
   "outputs": [],
   "source": [
    "import matplotlib.pyplot as plt\n",
    "plt.plot(\n",
    "    list(sims.sort_values()[::-1]),\n",
    "    dmg.coll.get_texts().apply(len).loc[sims.sort_values()[::-1].index],\n",
    "    \".\"\n",
    ")"
   ]
  },
  {
   "cell_type": "code",
   "execution_count": null,
   "id": "8c3af650-34b5-474a-b9fd-286189dbd09b",
   "metadata": {},
   "outputs": [],
   "source": []
  }
 ],
 "metadata": {
  "kernelspec": {
   "display_name": "Python 3 (ipykernel)",
   "language": "python",
   "name": "python3"
  },
  "language_info": {
   "codemirror_mode": {
    "name": "ipython",
    "version": 3
   },
   "file_extension": ".py",
   "mimetype": "text/x-python",
   "name": "python",
   "nbconvert_exporter": "python",
   "pygments_lexer": "ipython3",
   "version": "3.12.7"
  }
 },
 "nbformat": 4,
 "nbformat_minor": 5
}
