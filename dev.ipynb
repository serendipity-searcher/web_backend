{
 "cells": [
  {
   "cell_type": "code",
   "execution_count": 1,
   "id": "fea07788-79e9-4363-843c-6c31682a9132",
   "metadata": {},
   "outputs": [],
   "source": [
    "from tqdm import tqdm\n",
    "tqdm.pandas()\n",
    "from glob import glob\n",
    "\n",
    "import json\n",
    "import csv\n",
    "import numpy as np\n",
    "import pandas as pd\n",
    "from collections import Counter\n",
    "\n",
    "import rdflib\n",
    "from rdflib import Graph"
   ]
  },
  {
   "cell_type": "code",
   "execution_count": 3,
   "id": "b4d8dbd3-411d-4ccd-a848-9ae8c2d277b4",
   "metadata": {},
   "outputs": [
    {
     "name": "stderr",
     "output_type": "stream",
     "text": [
      "100%|████████████████████████████████████████████████████████████████████████| 36458/36458 [00:57<00:00, 633.57it/s]\n"
     ]
    }
   ],
   "source": [
    "from data.data import CollectionAccessor, ImageHandler\n",
    "\n",
    "dmg_meta = dict(name=\"DMG 2025-04-03\", id_=\"DMG_2025-04-03\",\n",
    "                creation_timestamp=\"2025-04-03\")\n",
    "# dmg = CollectionAccessor.get_DMG(\"./data/DMG_2025-03-26.csv\", \"\", **dmg_meta)\n",
    "image_folder = \"./data/images/DMG\"\n",
    "img = ImageHandler(image_folder=image_folder)\n",
    "\n",
    "dmg = CollectionAccessor.get_DMG(pub_path=\"./data/dumps/API_dump_public_2025-04-03_extracted.csv\",\n",
    "                                 priv_path=\"./data/dumps/API_dump_private_2025-04-03_extracted.csv\",\n",
    "                                 rights_path=\"./data/rights.csv\",\n",
    "                                 image_handler=img,\n",
    "                                 **dmg_meta)"
   ]
  }
 ],
 "metadata": {
  "kernelspec": {
   "display_name": "Python 3 (ipykernel)",
   "language": "python",
   "name": "python3"
  },
  "language_info": {
   "codemirror_mode": {
    "name": "ipython",
    "version": 3
   },
   "file_extension": ".py",
   "mimetype": "text/x-python",
   "name": "python",
   "nbconvert_exporter": "python",
   "pygments_lexer": "ipython3",
   "version": "3.12.7"
  }
 },
 "nbformat": 4,
 "nbformat_minor": 5
}
