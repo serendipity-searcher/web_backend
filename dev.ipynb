{
 "cells": [
  {
   "cell_type": "code",
   "execution_count": 1,
   "id": "fea07788-79e9-4363-843c-6c31682a9132",
   "metadata": {},
   "outputs": [
    {
     "name": "stderr",
     "output_type": "stream",
     "text": [
      "/home/valentin/home2-env/lib/python3.12/site-packages/sentence_transformers/cross_encoder/CrossEncoder.py:13: TqdmWarning: IProgress not found. Please update jupyter and ipywidgets. See https://ipywidgets.readthedocs.io/en/stable/user_install.html\n",
      "  from tqdm.autonotebook import tqdm, trange\n"
     ]
    }
   ],
   "source": [
    "from tqdm import tqdm\n",
    "tqdm.pandas()\n",
    "from glob import glob\n",
    "\n",
    "import json\n",
    "import csv\n",
    "import numpy as np\n",
    "import pandas as pd\n",
    "from collections import Counter\n",
    "\n",
    "import rdflib\n",
    "from rdflib import Graph\n",
    "from data.data import CollectionAccessor, ImageHandler, get_latest\n",
    "\n",
    "from search import Search, Randomiser"
   ]
  },
  {
   "cell_type": "code",
   "execution_count": 2,
   "id": "b4d8dbd3-411d-4ccd-a848-9ae8c2d277b4",
   "metadata": {},
   "outputs": [],
   "source": [
    "\n",
    "# dmg_meta = dict(name=\"DMG 2025-04-03\", id_=\"DMG_2025-04-03\",\n",
    "#                 creation_timestamp=\"2025-04-03\")\n",
    "# # dmg = CollectionAccessor.get_DMG(\"./data/DMG_2025-03-26.csv\", \"\", **dmg_meta)\n",
    "# image_folder = \"./data/images/DMG\"\n",
    "# img = ImageHandler(image_folder=image_folder)\n",
    "\n",
    "# dmg = CollectionAccessor.get_DMG(pub_path=\"./data/dumps/API_dump_public_2025-04-03_extracted.csv\",\n",
    "#                                  priv_path=\"./data/dumps/API_dump_private_2025-04-03_extracted.csv\",\n",
    "#                                  rights_path=\"./data/rights.csv\",\n",
    "#                                  image_handler=img,\n",
    "#                                  **dmg_meta)"
   ]
  },
  {
   "cell_type": "code",
   "execution_count": 5,
   "id": "9ffdd5f1-ed95-47d2-9cbd-6fa5e29d4858",
   "metadata": {},
   "outputs": [
    {
     "name": "stderr",
     "output_type": "stream",
     "text": [
      "100%|█████████████████████████████████████████████████████████████████████| 36458/36458 [00:00<00:00, 486635.42it/s]\n"
     ]
    }
   ],
   "source": [
    "def init_DMG():\n",
    "    image_folder = \"./data/images/DMG\"\n",
    "    image_handler = ImageHandler(image_folder=image_folder, keep_prefix=False)\n",
    "\n",
    "    dmg_meta = dict(name=\"Design Museum Gent (public & private)\", id_=\"DMG_2025-05-06\",\n",
    "                creation_timestamp=\"2025-05-06\")\n",
    "    df = CollectionAccessor.get_DMG(pub_path=get_latest(\"./data/dumps\", contains=\"public\"),\n",
    "                                     priv_path=get_latest(\"./data/dumps\", contains=\"private\"),\n",
    "                                     rights_path=\"./data/rights.csv\",\n",
    "                                     image_handler=image_handler,\n",
    "                                     **dmg_meta)\n",
    "    \n",
    "    rand = Randomiser(df, name=\"R1\")\n",
    "    rand2 = Randomiser(df, name=\"R2\")\n",
    "    s = Search([rand, rand2])\n",
    "    return image_handler, df, s\n",
    "\n",
    "im, dmg, dmg_search = init_DMG()"
   ]
  },
  {
   "cell_type": "code",
   "execution_count": 6,
   "id": "99a4c890-f3a3-42e0-bbe6-8081d026d489",
   "metadata": {},
   "outputs": [
    {
     "data": {
      "text/plain": [
       "[{'inventory_number': '2017-0314_2-5',\n",
       "  'title': \"Hulpstuk van het massageapparaat '77I'\",\n",
       "  'description': 'Het lichtblauwe massageapparaat van Nova werd geleverd met drie hulpstukken, waaronder deze trilplaat met noppen voor de behandeling van cellulitis. In de jaren 1960 kregen gezondheid, welzijn en uiterlijke schoonheid meer en meer aandacht. Een slanke taille, lange benen en een weelderige boezem wer …',\n",
       "  'designer': '',\n",
       "  'producer': 'Nova',\n",
       "  'design_date': '',\n",
       "  'production_date': 'na ca. 1972',\n",
       "  'design_place': '',\n",
       "  'production_place': 'Tongeren',\n",
       "  'rights_attribution': 'In Copyright',\n",
       "  'image_path': '/2017-0314_0-5/2017-0314_2-5$1.jpg'},\n",
       " {'inventory_number': '2017-0314_2-5',\n",
       "  'title': \"Hulpstuk van het massageapparaat '77I'\",\n",
       "  'description': 'Het lichtblauwe massageapparaat van Nova werd geleverd met drie hulpstukken, waaronder deze trilplaat met noppen voor de behandeling van cellulitis. In de jaren 1960 kregen gezondheid, welzijn en uiterlijke schoonheid meer en meer aandacht. Een slanke taille, lange benen en een weelderige boezem wer …',\n",
       "  'designer': '',\n",
       "  'producer': 'Nova',\n",
       "  'design_date': '',\n",
       "  'production_date': 'na ca. 1972',\n",
       "  'design_place': '',\n",
       "  'production_place': 'Tongeren',\n",
       "  'rights_attribution': 'In Copyright',\n",
       "  'image_path': '/2017-0314_0-5/2017-0314_2-5$2.jpg'},\n",
       " {'inventory_number': '4717_4-6',\n",
       "  'title': '',\n",
       "  'description': 'elastische banden',\n",
       "  'designer': 'Janine Kleykens',\n",
       "  'producer': 'Marcel Liebaert',\n",
       "  'design_date': '',\n",
       "  'production_date': 'na 1984',\n",
       "  'design_place': '',\n",
       "  'production_place': '',\n",
       "  'rights_attribution': 'In Copyright',\n",
       "  'image_path': '/4717_0-6/4717_4-6.JPG'},\n",
       " {'inventory_number': '2001-0086',\n",
       "  'title': '',\n",
       "  'description': 'geheel= potje (1.2) + deksel (2.2) - pillendoosje in bakkeliet',\n",
       "  'designer': '',\n",
       "  'producer': '',\n",
       "  'design_date': '',\n",
       "  'production_date': '1900 — 1999',\n",
       "  'design_place': '',\n",
       "  'production_place': '',\n",
       "  'rights_attribution': 'In Copyright',\n",
       "  'image_path': '/2001-0086/2001-0086$1.JPG'},\n",
       " {'inventory_number': '2001-0086',\n",
       "  'title': '',\n",
       "  'description': 'geheel= potje (1.2) + deksel (2.2) - pillendoosje in bakkeliet',\n",
       "  'designer': '',\n",
       "  'producer': '',\n",
       "  'design_date': '',\n",
       "  'production_date': '1900 — 1999',\n",
       "  'design_place': '',\n",
       "  'production_place': '',\n",
       "  'rights_attribution': 'In Copyright',\n",
       "  'image_path': '/2001-0086/2001-0086.JPG'},\n",
       " {'inventory_number': '2001-0086',\n",
       "  'title': '',\n",
       "  'description': 'geheel= potje (1.2) + deksel (2.2) - pillendoosje in bakkeliet',\n",
       "  'designer': '',\n",
       "  'producer': '',\n",
       "  'design_date': '',\n",
       "  'production_date': '1900 — 1999',\n",
       "  'design_place': '',\n",
       "  'production_place': '',\n",
       "  'rights_attribution': 'In Copyright',\n",
       "  'image_path': '/2001-0086/2001-0086$2.JPG'},\n",
       " {'inventory_number': '3293',\n",
       "  'title': 'Paneel met druivenrank',\n",
       "  'description': 'Massief paneel met druivenrank. Aan een van de randen van een lange zijde werden vijf gaten gemaakt.',\n",
       "  'designer': 'onbekend',\n",
       "  'producer': '',\n",
       "  'design_date': '',\n",
       "  'production_date': '1450 — 1550',\n",
       "  'design_place': '',\n",
       "  'production_place': '',\n",
       "  'rights_attribution': 'In Copyright',\n",
       "  'image_path': '/3293/3293.JPG'},\n",
       " {'inventory_number': '3293',\n",
       "  'title': 'Paneel met druivenrank',\n",
       "  'description': 'Massief paneel met druivenrank. Aan een van de randen van een lange zijde werden vijf gaten gemaakt.',\n",
       "  'designer': 'onbekend',\n",
       "  'producer': '',\n",
       "  'design_date': '',\n",
       "  'production_date': '1450 — 1550',\n",
       "  'design_place': '',\n",
       "  'production_place': '',\n",
       "  'rights_attribution': 'In Copyright',\n",
       "  'image_path': '/3293/3293$1.jpg'},\n",
       " {'inventory_number': '3293',\n",
       "  'title': 'Paneel met druivenrank',\n",
       "  'description': 'Massief paneel met druivenrank. Aan een van de randen van een lange zijde werden vijf gaten gemaakt.',\n",
       "  'designer': 'onbekend',\n",
       "  'producer': '',\n",
       "  'design_date': '',\n",
       "  'production_date': '1450 — 1550',\n",
       "  'design_place': '',\n",
       "  'production_place': '',\n",
       "  'rights_attribution': 'In Copyright',\n",
       "  'image_path': '/3293/3293$2.jpg'}]"
      ]
     },
     "execution_count": 6,
     "metadata": {},
     "output_type": "execute_result"
    }
   ],
   "source": [
    "dmg.coll.get_presentation_records(object_numbers=list(dmg.sample(4).index))\n",
    "# for i, r in sub.iterrows():\n",
    "#     r.image_path"
   ]
  },
  {
   "cell_type": "code",
   "execution_count": null,
   "id": "c89d7709-8922-4051-bb7d-6493ebbbaed0",
   "metadata": {},
   "outputs": [],
   "source": [
    "dmg.image_path.isna().sum()"
   ]
  },
  {
   "cell_type": "code",
   "execution_count": null,
   "id": "710fcbeb-9ce7-4b97-8d27-ed6f2feb31a3",
   "metadata": {},
   "outputs": [],
   "source": [
    "dmg[\"objectname_label\"]"
   ]
  },
  {
   "cell_type": "markdown",
   "id": "8ef1cbb6-a78f-4f60-bc65-ae755bbec9c4",
   "metadata": {},
   "source": [
    "---\n",
    "# DEV FUNCTIONS"
   ]
  },
  {
   "cell_type": "code",
   "execution_count": null,
   "id": "c515e93e-1760-4cbe-bfdf-f35c6c9bd5d2",
   "metadata": {},
   "outputs": [],
   "source": [
    "def parse_id_list(id_list_str):\n",
    "    try:\n",
    "        return list(map(str.strip, id_list_str.split(\",\")))\n",
    "    except ValueError:\n",
    "        raise s"
   ]
  },
  {
   "cell_type": "code",
   "execution_count": null,
   "id": "4ea3c5cb-6607-4274-82e7-b14291007d1a",
   "metadata": {},
   "outputs": [],
   "source": [
    "def search_collection(collection_id, object_ids, concept, model_list):\n",
    "    cur_coll = get_collection(collection_id)\n",
    "    object_ids = parse_id_list(object_ids)\n",
    "    model_list = parse_id_list(model_list)\n",
    "    cur_search = searches[collection_id]\n",
    "    print(object_ids)\n",
    "    scores = cur_search(object_ids)\n",
    "\n",
    "\n",
    "object_ids = \"1987-0120_04-14,1987-1343_2-4,3370,3703_0-2\"\n",
    "object_ids = parse_id_list(object_ids)\n",
    "object_ids\n",
    "recs = dmg.loc[object_ids]"
   ]
  },
  {
   "cell_type": "code",
   "execution_count": null,
   "id": "411db76c-6d1f-497e-8fbe-d88d4ea54b95",
   "metadata": {
    "scrolled": true
   },
   "outputs": [],
   "source": [
    "# searcher_scores = [cur_s(recs) for cur_s in dmg_search.searchers]\n",
    "# searcher_scores = pd.DataFrame({cur_s.name: cur_s for cur_s in searcher_scores})\n",
    "# searcher_scores.loc[recs.index] = 0.\n",
    "\n",
    "\n",
    "# searcher_scores.round(3)"
   ]
  },
  {
   "cell_type": "markdown",
   "id": "c9c6c6b7-1f72-4436-8e5d-7616b36664e6",
   "metadata": {},
   "source": [
    "---\n",
    "# TESTING ROUTES"
   ]
  },
  {
   "cell_type": "code",
   "execution_count": null,
   "id": "b285fa67-ca55-4c06-aa6e-17db0d1c3bba",
   "metadata": {},
   "outputs": [],
   "source": [
    "!curl \"http://0.0.0.0:8080/collections\""
   ]
  },
  {
   "cell_type": "code",
   "execution_count": null,
   "id": "ee99642f-c690-4683-836d-37f9aad2ed95",
   "metadata": {},
   "outputs": [],
   "source": [
    "!curl \"http://0.0.0.0:8080/DMG_2025-05-06\""
   ]
  },
  {
   "cell_type": "code",
   "execution_count": null,
   "id": "361936a4-a48d-4798-8bf6-058c2eccac92",
   "metadata": {},
   "outputs": [],
   "source": [
    "!curl \"http://0.0.0.0:8080/DMG_2025-05-06/object-details?object_ids=1987-0120_04-14,1987-1343_2-4,3370,3703_0-2\""
   ]
  },
  {
   "cell_type": "code",
   "execution_count": null,
   "id": "11e91252-5e3e-44da-aa55-75916d39ff4b",
   "metadata": {},
   "outputs": [],
   "source": [
    "!curl \"http://0.0.0.0:8080/DMG_2025-05-06/models\""
   ]
  },
  {
   "cell_type": "code",
   "execution_count": null,
   "id": "82166689-1dd1-495a-a217-e58bc9716ebf",
   "metadata": {},
   "outputs": [],
   "source": [
    "!curl \"http://0.0.0.0:8080/moon?ISO_8601_datetime=2024-05-13&lat_degrees=51.05&long_degrees=3.71\""
   ]
  },
  {
   "cell_type": "code",
   "execution_count": null,
   "id": "951ce09b-2b36-46e3-9048-725e6f24912f",
   "metadata": {
    "scrolled": true
   },
   "outputs": [],
   "source": [
    "# default params for search\n",
    "!curl \"http://0.0.0.0:8080/DMG_2025-05-06/search\""
   ]
  },
  {
   "cell_type": "code",
   "execution_count": null,
   "id": "0762b5a0-b8ed-4ef6-a121-4b1b64b45856",
   "metadata": {
    "scrolled": true
   },
   "outputs": [],
   "source": [
    "!curl \"http://0.0.0.0:8080/DMG_2025-05-06/search?object_ids=\"1987-0120_04-14,1987-1343_2-4,3370,3703_0-2\"&concept=\"hello\"&model_list=\"a,b\"\""
   ]
  },
  {
   "cell_type": "code",
   "execution_count": null,
   "id": "b8fc7eec-4f9c-4ddf-9dfc-e0884cfd425e",
   "metadata": {},
   "outputs": [],
   "source": [
    "!curl \"http://0.0.0.0:8080/DMG_2025-05-06/search/order?object_ids=\"1987-0120_04-14,1987-1343_2-4,3370,3703_0-2\"&concept=\"hello\"&model_list=\"a,b\"&skip=200&limit=100&reverse=true\""
   ]
  },
  {
   "cell_type": "code",
   "execution_count": null,
   "id": "ab478dc8-d4e1-4aed-898a-0b2e3cbfbdc4",
   "metadata": {},
   "outputs": [],
   "source": [
    "!curl \"http://0.0.0.0:8080/DMG_2025-05-06/search/sample?object_ids=\"1987-0120_04-14,1987-1343_2-4,3370,3703_0-2\"&concept=\"hello\"&model_list=\"a,b\"&k=100\""
   ]
  },
  {
   "cell_type": "code",
   "execution_count": null,
   "id": "ee771608-6ed5-4f4a-9fec-1edf674506fe",
   "metadata": {},
   "outputs": [],
   "source": [
    "!curl \"http://0.0.0.0:8080/DMG_2025-05-06/search/order/filter?object_ids=\"1987-0120_04-14,1987-1343_2-4,3370,3703_0-2\"&concept=\"hello\"&model_list=\"a,b\"&filter_text=\"doos\"\""
   ]
  },
  {
   "cell_type": "code",
   "execution_count": null,
   "id": "02b8f761-ea09-49b8-bc12-8128e11214af",
   "metadata": {},
   "outputs": [],
   "source": []
  }
 ],
 "metadata": {
  "kernelspec": {
   "display_name": "Python 3 (ipykernel)",
   "language": "python",
   "name": "python3"
  },
  "language_info": {
   "codemirror_mode": {
    "name": "ipython",
    "version": 3
   },
   "file_extension": ".py",
   "mimetype": "text/x-python",
   "name": "python",
   "nbconvert_exporter": "python",
   "pygments_lexer": "ipython3",
   "version": "3.12.7"
  }
 },
 "nbformat": 4,
 "nbformat_minor": 5
}
