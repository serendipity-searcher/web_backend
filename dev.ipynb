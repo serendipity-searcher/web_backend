{
 "cells": [
  {
   "cell_type": "code",
   "execution_count": null,
   "id": "fea07788-79e9-4363-843c-6c31682a9132",
   "metadata": {},
   "outputs": [],
   "source": [
    "from tqdm import tqdm\n",
    "tqdm.pandas()\n",
    "from glob import glob\n",
    "\n",
    "import json\n",
    "import csv\n",
    "import numpy as np\n",
    "import pandas as pd\n",
    "from collections import Counter\n",
    "\n",
    "import rdflib\n",
    "from rdflib import Graph\n",
    "from data.data import CollectionAccessor, ImageHandler\n",
    "\n",
    "from search import Search, Randomiser"
   ]
  },
  {
   "cell_type": "code",
   "execution_count": null,
   "id": "c43d7944-d536-4a62-b422-bf924dc89e56",
   "metadata": {},
   "outputs": [],
   "source": [
    "def init_DMG(images_path):\n",
    "    if images_path is not None:\n",
    "        image_handler = ImageHandler(image_folder=images_path, keep_prefix=True)\n",
    "    else:\n",
    "        image_handler = None\n",
    "\n",
    "    time_stamp, pub_file, priv_file = CollectionAccessor.get_latest_dump(\"./data/dumps\")\n",
    "    # print(CollectionAccessor.get_latest_dump(\"./data/dumps\"))\n",
    "\n",
    "    \n",
    "    dmg_meta = dict(name=\"Design Museum Gent (public & private)\", id_=\"DMG_\"+time_stamp,\n",
    "                creation_timestamp=time_stamp)\n",
    "    df = CollectionAccessor.get_DMG(pub_path=pub_file, #get_latest(\"./data/dumps\", contains=\"public\"),\n",
    "                                     priv_path=priv_file, #get_latest(\"./data/dumps\", contains=\"private\"),\n",
    "                                     rights_path=\"./data/rights.csv\",\n",
    "                                     image_handler=image_handler,\n",
    "                                     **dmg_meta)\n",
    "    return image_handler, df\n",
    "\n",
    "image_handler, dmg = init_DMG(\"./data/images/\")"
   ]
  },
  {
   "cell_type": "code",
   "execution_count": null,
   "id": "ec25c87f-88ca-4d91-b3ae-e65979c72da1",
   "metadata": {},
   "outputs": [],
   "source": [
    "dmg.image_path.fillna(False).apply(lambda ls: (ls[0] if ls else None))"
   ]
  },
  {
   "cell_type": "code",
   "execution_count": null,
   "id": "9ffdd5f1-ed95-47d2-9cbd-6fa5e29d4858",
   "metadata": {
    "scrolled": true
   },
   "outputs": [],
   "source": [
    "def init_DMG():\n",
    "    image_folder = \"./data/images/DMG\"\n",
    "    image_handler = ImageHandler(image_folder=image_folder, keep_prefix=False)\n",
    "    print(\"image paths loaded...\")\n",
    "\n",
    "    time_stamp, pub_file, priv_file = CollectionAccessor.get_latest_dump(\"./data/dumps\")\n",
    "    print(CollectionAccessor.get_latest_dump(\"./data/dumps\"))\n",
    "\n",
    "    \n",
    "    dmg_meta = dict(name=\"Design Museum Gent (public & private)\", id_=\"DMG_\"+time_stamp,\n",
    "                creation_timestamp=time_stamp)\n",
    "    df = CollectionAccessor.get_DMG(pub_path=pub_file, #get_latest(\"./data/dumps\", contains=\"public\"),\n",
    "                                     priv_path=priv_file, #get_latest(\"./data/dumps\", contains=\"private\"),\n",
    "                                     rights_path=\"./data/rights.csv\",\n",
    "                                     image_handler=image_handler,\n",
    "                                     **dmg_meta)\n",
    "    \n",
    "    rand = Randomiser(df, name=\"Randomiser\")\n",
    "    rand2 = Randomiser(df, name=\"Randomiser\")\n",
    "    s = Search([rand, rand2])\n",
    "    return image_handler, df, s\n",
    "\n",
    "im, dmg, dmg_search = init_DMG()"
   ]
  },
  {
   "cell_type": "code",
   "execution_count": null,
   "id": "897d462b-77f9-4a0b-b4fc-39414221775f",
   "metadata": {},
   "outputs": [],
   "source": [
    "recs = dmg.sample(4)\n",
    "searcher_ids = [s.id for s in dmg_search.searchers[:1]]"
   ]
  },
  {
   "cell_type": "code",
   "execution_count": null,
   "id": "352611dd-8baf-4d89-a75f-c0a5c86f312f",
   "metadata": {},
   "outputs": [],
   "source": [
    "dmg_search(recs, searcher_ids=searcher_ids)"
   ]
  },
  {
   "cell_type": "markdown",
   "id": "8ef1cbb6-a78f-4f60-bc65-ae755bbec9c4",
   "metadata": {},
   "source": [
    "---\n",
    "# DEV FUNCTIONS"
   ]
  },
  {
   "cell_type": "code",
   "execution_count": null,
   "id": "4ea3c5cb-6607-4274-82e7-b14291007d1a",
   "metadata": {},
   "outputs": [],
   "source": [
    "def search_collection(collection_id, object_ids, concept, model_list):\n",
    "    cur_coll = get_collection(collection_id)\n",
    "    object_ids = parse_id_list(object_ids)\n",
    "    model_list = parse_id_list(model_list)\n",
    "    cur_search = searches[collection_id]\n",
    "    print(object_ids)\n",
    "    scores = cur_search(object_ids)\n",
    "\n",
    "\n",
    "object_ids = \"1987-0120_04-14,1987-1343_2-4,3370,3703_0-2\"\n",
    "object_ids = parse_id_list(object_ids)\n",
    "object_ids\n",
    "recs = dmg.loc[object_ids]"
   ]
  },
  {
   "cell_type": "code",
   "execution_count": null,
   "id": "411db76c-6d1f-497e-8fbe-d88d4ea54b95",
   "metadata": {
    "scrolled": true
   },
   "outputs": [],
   "source": [
    "# searcher_scores = [cur_s(recs) for cur_s in dmg_search.searchers]\n",
    "# searcher_scores = pd.DataFrame({cur_s.name: cur_s for cur_s in searcher_scores})\n",
    "# searcher_scores.loc[recs.index] = 0.\n",
    "\n",
    "\n",
    "# searcher_scores.round(3)"
   ]
  },
  {
   "cell_type": "code",
   "execution_count": null,
   "id": "8564463e-e157-4e54-a6ca-7fcee8b8af82",
   "metadata": {},
   "outputs": [],
   "source": [
    "\n",
    "\n",
    "dmg.coll.filter(\"doos\")"
   ]
  },
  {
   "cell_type": "markdown",
   "id": "c9c6c6b7-1f72-4436-8e5d-7616b36664e6",
   "metadata": {},
   "source": [
    "---\n",
    "# TESTING ROUTES"
   ]
  },
  {
   "cell_type": "code",
   "execution_count": null,
   "id": "b285fa67-ca55-4c06-aa6e-17db0d1c3bba",
   "metadata": {},
   "outputs": [],
   "source": [
    "!curl \"http://0.0.0.0:8080/collections\""
   ]
  },
  {
   "cell_type": "code",
   "execution_count": null,
   "id": "ee99642f-c690-4683-836d-37f9aad2ed95",
   "metadata": {},
   "outputs": [],
   "source": [
    "!curl \"http://0.0.0.0:8080/DMG_2025-05-13\""
   ]
  },
  {
   "cell_type": "code",
   "execution_count": null,
   "id": "361936a4-a48d-4798-8bf6-058c2eccac92",
   "metadata": {},
   "outputs": [],
   "source": [
    "!curl \"http://0.0.0.0:8080/DMG_2025-05-13/object-details?object_ids=1987-0120_04-14,1987-1343_2-4,3370,3703_0-2\""
   ]
  },
  {
   "cell_type": "code",
   "execution_count": null,
   "id": "11e91252-5e3e-44da-aa55-75916d39ff4b",
   "metadata": {},
   "outputs": [],
   "source": [
    "!curl \"http://0.0.0.0:8080/DMG_2025-05-13/models\""
   ]
  },
  {
   "cell_type": "code",
   "execution_count": null,
   "id": "82166689-1dd1-495a-a217-e58bc9716ebf",
   "metadata": {},
   "outputs": [],
   "source": [
    "!curl \"http://0.0.0.0:8080/moon?ISO_8601_datetime=2024-05-13&lat_degrees=51.05&long_degrees=3.71\""
   ]
  },
  {
   "cell_type": "code",
   "execution_count": null,
   "id": "951ce09b-2b36-46e3-9048-725e6f24912f",
   "metadata": {
    "scrolled": true
   },
   "outputs": [],
   "source": [
    "# default params for search\n",
    "!curl \"http://0.0.0.0:8080/DMG_2025-05-13/search\""
   ]
  },
  {
   "cell_type": "code",
   "execution_count": null,
   "id": "0762b5a0-b8ed-4ef6-a121-4b1b64b45856",
   "metadata": {
    "scrolled": true
   },
   "outputs": [],
   "source": [
    "!curl \"http://0.0.0.0:8080/DMG_2025-05-13/search?object_ids=\"1987-0120_04-14,1987-1343_2-4,3370,3703_0-2\"&concept=\"schreeuw\"&model_list=\"\"\""
   ]
  },
  {
   "cell_type": "code",
   "execution_count": null,
   "id": "b8fc7eec-4f9c-4ddf-9dfc-e0884cfd425e",
   "metadata": {
    "scrolled": true
   },
   "outputs": [],
   "source": [
    "!curl \"http://0.0.0.0:8080/DMG_2025-05-13/search/order?object_ids=\"1987-0120_04-14,1987-1343_2-4,3370,3703_0-2\"&concept=\"hello\"&model_list=\"a,b\"&skip=200&limit=100&reverse=true\""
   ]
  },
  {
   "cell_type": "code",
   "execution_count": null,
   "id": "ab478dc8-d4e1-4aed-898a-0b2e3cbfbdc4",
   "metadata": {},
   "outputs": [],
   "source": [
    "!curl \"http://0.0.0.0:8080/DMG_2025-05-13/search/sample?object_ids=\"1987-0120_04-14,1987-1343_2-4,3370,3703_0-2\"&concept=\"hello\"&model_list=\"a,b\"&k=12\""
   ]
  },
  {
   "cell_type": "code",
   "execution_count": null,
   "id": "ee771608-6ed5-4f4a-9fec-1edf674506fe",
   "metadata": {},
   "outputs": [],
   "source": [
    "!curl \"http://0.0.0.0:8080/DMG_2025-05-13/search/order/filter?object_ids=\"1987-0120_04-14,1987-1343_2-4,3370,3703_0-2\"&concept=\"hello\"&model_ids=\"\"&filter_text=\"doosje\"\""
   ]
  },
  {
   "cell_type": "markdown",
   "id": "a08923e8-064b-46c2-b365-b94125247f15",
   "metadata": {},
   "source": [
    "---\n",
    "\n",
    "# routes 2"
   ]
  },
  {
   "cell_type": "code",
   "execution_count": 39,
   "id": "a397a50f-a74d-4ec9-9daf-d57b5118d227",
   "metadata": {},
   "outputs": [],
   "source": [
    "import requests as rq\n",
    "from time import time\n",
    "from tqdm import tqdm\n",
    "import pandas as pd\n",
    "\n",
    "base = \"http://0.0.0.0:8080/\"\n",
    "# collection_id=\"DMG_2025-05-13/\""
   ]
  },
  {
   "cell_type": "code",
   "execution_count": 40,
   "id": "66c59bff-5c99-46df-8e92-3314215ab9cd",
   "metadata": {},
   "outputs": [
    {
     "name": "stdout",
     "output_type": "stream",
     "text": [
      "DMG_2025-06-06/\n",
      "MKG_2025-06-05/\n"
     ]
    }
   ],
   "source": [
    "# path = \"search/sample\"\n",
    "scores = []\n",
    "for d in rq.get(base+\"/collections\").json():\n",
    "    collection_id = d[\"id\"] +\"/\"\n",
    "    print(collection_id)\n",
    "    models = pd.DataFrame.from_records(rq.get(base+collection_id+\"models\").json())\n",
    "    # models = models[models.name.str.startswith(\"Visual\")]\n",
    "    \n",
    "    params = dict(object_ids=\"\", concept=\"\", model_ids=\",\".join(models.id)) #,\".join(models))\n",
    "    search_res = rq.get(base+collection_id+\"search/sample\", params).json()\n",
    "    # scores.append(pd.Series(search_res).sort_values())\n",
    "    first_sample = pd.DataFrame.from_records(search_res).sample(4)\n",
    "\n",
    "    params = dict(object_ids=\",\".join(first_sample.inventory_number), \n",
    "                  concept=\"\", model_ids=\",\".join(models.id)) #,\".join(models))\n",
    "    try:\n",
    "        search_res = pd.DataFrame.from_records(rq.get(base+collection_id+\"search/order/filter\", params).json())\n",
    "    except Exception as e:\n",
    "        print(e)\n",
    "        print(\"oops\")\n",
    "\n",
    "    # score_ls.append(scores)\n",
    "\n",
    "    # print(rq.get(base+coll_id+\"/models\").json())\n",
    "    "
   ]
  },
  {
   "cell_type": "code",
   "execution_count": null,
   "id": "076875bc-c103-4acc-b8b0-6ea4e5ecc1fc",
   "metadata": {},
   "outputs": [],
   "source": [
    "pd.Series(rq.get(base+collection_id+\"search\", params).json())"
   ]
  },
  {
   "cell_type": "code",
   "execution_count": 10,
   "id": "c4c9311d-6c74-4320-a43b-b3031b1e23c3",
   "metadata": {},
   "outputs": [
    {
     "data": {
      "text/plain": [
       "<Axes: >"
      ]
     },
     "execution_count": 10,
     "metadata": {},
     "output_type": "execute_result"
    },
    {
     "data": {
      "image/png": "[encoded data removed]",
      "text/plain": [
       "<Figure size 640x480 with 1 Axes>"
      ]
     },
     "metadata": {},
     "output_type": "display_data"
    }
   ],
   "source": [
    "search_res.hist(bins=30)"
   ]
  },
  {
   "cell_type": "code",
   "execution_count": null,
   "id": "b8094fe5-75b7-4ac3-bc0d-2bf564ffb607",
   "metadata": {},
   "outputs": [],
   "source": [
    "pd.Series(search_res)"
   ]
  },
  {
   "cell_type": "code",
   "execution_count": null,
   "id": "f3241596-0b50-48ce-9b7b-904c649bc845",
   "metadata": {},
   "outputs": [],
   "source": [
    "path = \"search/order\"\n",
    "models = rq.get(base+collection_id+\"models\").json()\n",
    "models = [d[\"id\"] for d in models]\n",
    "params = dict(object_ids=\"IE1896.152,O1912.472,1984.496,O1911.243\", concept=\"\", model_ids=\",\".join(models))\n",
    "search_res = rq.get(base+collection_id+path, params).json()\n",
    "# pd.Series(search_res).hist()"
   ]
  },
  {
   "cell_type": "code",
   "execution_count": null,
   "id": "cb86bbc0-52de-4f17-b85c-348735fea76e",
   "metadata": {},
   "outputs": [],
   "source": [
    "pd.DataFrame.from_records(search_res)"
   ]
  },
  {
   "cell_type": "code",
   "execution_count": null,
   "id": "4dec2785-ea6f-48f2-afa2-27a61405aba7",
   "metadata": {},
   "outputs": [],
   "source": [
    "path = \"models\"\n",
    "models = rq.get(base+collection_id+path).json()\n",
    "models = [m[\"id\"] for m in models]\n",
    "models"
   ]
  },
  {
   "cell_type": "code",
   "execution_count": null,
   "id": "0be75425-a0fb-4c75-a0be-f542ccea8095",
   "metadata": {},
   "outputs": [],
   "source": [
    "dmg.coll.filter(\"stoel\")\n",
    "# dmg.loc[[\"1999-0032_03-15\"]].coll.get_texts()"
   ]
  },
  {
   "cell_type": "code",
   "execution_count": null,
   "id": "c5773a23-f40b-4d26-9fc9-4605f48918b1",
   "metadata": {},
   "outputs": [],
   "source": [
    "path = \"search/order\"\n",
    "\n",
    "params = dict(object_ids=\"3535\", concept=\"stoel\", model_ids=\",\".join(models))\n",
    "search_res = rq.get(base+collection_id+path, params).json()\n",
    "# scores = pd.Series(search_res).sort_values()\n",
    "\n",
    "\n",
    "print(\"\\n\".join(pd.DataFrame.from_records(search_res).title[:10]))"
   ]
  },
  {
   "cell_type": "code",
   "execution_count": null,
   "id": "e7446d67-2e73-488e-939d-d5c14ba69175",
   "metadata": {},
   "outputs": [],
   "source": [
    "score_ls = []\n",
    "path = \"search\"\n",
    "for m in models:\n",
    "    print(parse_id_list(m))\n",
    "    params = dict(object_ids=\"1999-0032_03-15\", concept=\"\", model_ids=m) #,\".join(models))\n",
    "    search_res = rq.get(base+collection_id+path, params).json()\n",
    "    scores = pd.Series(search_res).sort_values()\n",
    "    score_ls.append(scores)\n",
    "    print(scores.index[-10:])\n",
    "\n",
    "\n",
    "params = dict(object_ids=\"\", concept=\"meubel\", model_ids=\"\") #,\".join(models))\n",
    "search_res = rq.get(base+collection_id+path, params).json()\n",
    "scores = pd.Series(search_res).sort_values()\n",
    "score_ls.append(scores)\n"
   ]
  },
  {
   "cell_type": "code",
   "execution_count": null,
   "id": "095f2f68-6661-4e79-9a64-83e5f5d468e9",
   "metadata": {},
   "outputs": [],
   "source": [
    "# dmg.loc[scores.sort_values()[-10:].index]\n",
    "# dmg.coll.order(scores)\n",
    "pd.DataFrame.from_records(search_res)\n",
    "\n"
   ]
  },
  {
   "cell_type": "code",
   "execution_count": null,
   "id": "b9af1118-f16a-48f1-a545-8a3b58704f9d",
   "metadata": {},
   "outputs": [],
   "source": [
    "dmg.loc[\"2003-0147_2-2\"]"
   ]
  },
  {
   "cell_type": "code",
   "execution_count": null,
   "id": "1d5aeeb6-a45d-44e2-90e8-299814dc5ad4",
   "metadata": {},
   "outputs": [],
   "source": [
    "\n",
    "models = rq.get(\"http://0.0.0.0:8080/DMG_2025-05-13/models\").json()\n",
    "models = [d[\"id\"] for d in models]\n",
    "\n",
    "# for d in range(10, 30):\n",
    "#     q = dict(ISO_8601_datetime=f\"2024-05-{d}\", \n",
    "#              lat_long_degrees=\"51.05,3.71\")\n",
    "timings = []\n",
    "for _ in tqdm(range(100)):\n",
    "    q = dict(object_ids=\"2015-0130,1987-1343_2-4,2001-0086,3703_0-2\",\n",
    "                 concept=\"twee halskettingen, deze zitten samen in 1 doosje\",\n",
    "                 model_list=\",\".join(models))\n",
    "    \n",
    "    # print(base+collection_id+path)\n",
    "    # print(q)\n",
    "    \n",
    "    t0 = time()\n",
    "    \n",
    "    resp = rq.get(base+collection_id+path, params=q)\n",
    "        \n",
    "    resp.json()\n",
    "    \n",
    "    # print(time() - t0)\n",
    "    timings.append(time() - t0)"
   ]
  },
  {
   "cell_type": "code",
   "execution_count": null,
   "id": "e83964c4-03d4-4cf3-911b-39a6bf539ccf",
   "metadata": {
    "scrolled": true
   },
   "outputs": [],
   "source": [
    "import pandas as pd\n",
    "pd.Series(timings).hist(bins=40)"
   ]
  },
  {
   "cell_type": "markdown",
   "id": "7999b650-1392-4488-bcbe-accce548df24",
   "metadata": {},
   "source": [
    "---\n",
    "## fixing index issues"
   ]
  },
  {
   "cell_type": "code",
   "execution_count": null,
   "id": "49b16324-f747-46b9-8b62-d8f3797a230f",
   "metadata": {},
   "outputs": [],
   "source": [
    "collection_id = \"DMG_2025-06-06/\" #/search/order\"\n",
    "\n",
    "models = pd.DataFrame.from_records(rq.get(base+collection_id+\"models\").json())\n",
    "models = models[models.name.str.startswith(\"Visual\")]\n",
    "    \n",
    "# params = dict(object_ids=\"\", concept=\"\", model_ids=\",\".join(models.id)) #,\".join(models))\n",
    "# search_res = rq.get(base+collection_id+\"search/order\", params).json()\n",
    "\n",
    "params = dict(object_ids=\"\", concept=\"\", model_ids=\",\".join(models.id)) #,\".join(models))\n",
    "scores = pd.Series(rq.get(base+collection_id+\"search\", params).json())"
   ]
  },
  {
   "cell_type": "code",
   "execution_count": 14,
   "id": "ca78b035-6d68-422c-a115-19a2a98b684e",
   "metadata": {},
   "outputs": [
    {
     "name": "stderr",
     "output_type": "stream",
     "text": [
      "/home/valentin/home2-env/lib/python3.12/site-packages/tqdm/auto.py:21: TqdmWarning: IProgress not found. Please update jupyter and ipywidgets. See https://ipywidgets.readthedocs.io/en/stable/user_install.html\n",
      "  from .autonotebook import tqdm as notebook_tqdm\n"
     ]
    },
    {
     "name": "stdout",
     "output_type": "stream",
     "text": [
      "WARNING: ./data/DMG/images is empty! Is the path correct?\n"
     ]
    },
    {
     "name": "stderr",
     "output_type": "stream",
     "text": [
      "100%|███████████████████████████████████████████████████████████████████████| 24781/24781 [00:19<00:00, 1302.92it/s]\n"
     ]
    }
   ],
   "source": [
    "from data.data import ImageHandler, CollectionAccessor\n",
    "\n",
    "def init_DMG():\n",
    "    DMG_DIR = \"./data/DMG\"\n",
    "    image_folder = DMG_DIR+\"/images\"\n",
    "    image_handler = ImageHandler(\"DMG\", image_folder=image_folder, keep_prefix=False)\n",
    "\n",
    "    time_stamp, pub_file, priv_file = CollectionAccessor.get_latest_dump(DMG_DIR+\"/dumps\")\n",
    "\n",
    "\n",
    "    dmg_meta = dict(name=\"Design Museum Gent (public & private)\", id_=\"DMG_\"+time_stamp,\n",
    "                creation_timestamp=time_stamp, language=\"nl\")\n",
    "    df = CollectionAccessor.get_DMG(pub_path=pub_file, #get_latest(\"./data/dumps\", contains=\"public\"),\n",
    "                                     priv_path=priv_file, #get_latest(\"./data/dumps\", contains=\"private\"),\n",
    "                                     rights_path=DMG_DIR+\"/rights.csv\",\n",
    "                                     image_handler=image_handler,\n",
    "                                     **dmg_meta)\n",
    "\n",
    "    # kg_searcher = GraphSearcher(df)\n",
    "\n",
    "\n",
    "    # sem_embs = EmbeddingSpaceAccessor.load(DMG_DIR+\"/generated_data/distiluse-base-multilingual-cased-v2\",\n",
    "    #                                    loadXD=None)\n",
    "    # concept_search = TextEmbeddingSearcher(sem_embs, name=\"ConceptSearcher\")\n",
    "\n",
    "\n",
    "    # sem_embs = EmbeddingSpaceAccessor.load(DMG_DIR+\"/generated_data/distiluse-base-multilingual-cased-v2\",\n",
    "    #                                    loadXD=32)\n",
    "    # sem_searcher = EmbeddingSearcher(sem_embs, name=\"SemanticSearcher\")\n",
    "    \n",
    "    # viz_embs = EmbeddingSpaceAccessor.load(DMG_DIR+\"/generated_data/vitmae\", loadXD=32)\n",
    "    # viz_searcher = EmbeddingSearcher(viz_embs, name=\"VisualSearcher\")\n",
    "\n",
    "    # s = Search([kg_searcher, sem_searcher, viz_searcher])\n",
    "    return df#, s, concept_search\n",
    "\n",
    "dmg = init_DMG()"
   ]
  },
  {
   "cell_type": "code",
   "execution_count": null,
   "id": "21af3724-573e-438d-a32b-7707f5a9dc57",
   "metadata": {},
   "outputs": [],
   "source": [
    "# dmg.loc[\"1992-0193_03-16_ARCHIEF\"]\n",
    "\n",
    "dmg[dmg.index.str.contains(\"ARCHIEF\")]#.sum()"
   ]
  },
  {
   "cell_type": "code",
   "execution_count": null,
   "id": "1bd7a2e3-15d6-49f2-9db6-cb05b37619d0",
   "metadata": {},
   "outputs": [],
   "source": [
    "scores.index.str.contains(\"ARCHIEF\").sum()\n",
    "\n",
    "dmg.index.difference(scores.index)\n",
    "\n",
    "# scores.loc[dmg.index].shape, scores.shape\n",
    "scores.loc[dmgs.index.intersection(scores.index)]\n"
   ]
  },
  {
   "cell_type": "code",
   "execution_count": null,
   "id": "81f42fc6-ffdc-4674-879f-0ed1596079ef",
   "metadata": {},
   "outputs": [],
   "source": [
    "a= pd.Series([1,2,3], index=\"a b c\".split(), name=\"a\")\n",
    "b = pd.Series([1,2,3], index=\"b e f\".split(), name=\"b\")\n",
    "\n",
    "\n",
    "pd.DataFrame({s.name: s for s in [a,b]})"
   ]
  },
  {
   "cell_type": "markdown",
   "id": "d20cb718-8340-4cbf-899e-c2053bd3d851",
   "metadata": {},
   "source": [
    "---\n",
    "## fixing list columns"
   ]
  },
  {
   "cell_type": "code",
   "execution_count": 15,
   "id": "adecc21f-b851-4b5e-9365-1bf58cf4be16",
   "metadata": {},
   "outputs": [
    {
     "name": "stderr",
     "output_type": "stream",
     "text": [
      "100%|███████████████████████████████████████████████████████████████████████| 26294/26294 [00:16<00:00, 1588.32it/s]\n"
     ]
    }
   ],
   "source": [
    "def init_MKG():\n",
    "    MKG_DIR = \"./data/MKG\"\n",
    "    image_folder = MKG_DIR+\"/images\"\n",
    "    image_handler = ImageHandler(\"MKG\", image_folder=image_folder, keep_prefix=False)\n",
    "\n",
    "    # time_stamp, pub_file, priv_file = CollectionAccessor.get_latest_dump(\"./data/dumps\")\n",
    "\n",
    "    time_stamp = \"2025-06-05\"\n",
    "    mkg_meta = dict(name=\"Museum Kunst & Gewerbe\", id_=\"MKG_\"+time_stamp,\n",
    "                    creation_timestamp=time_stamp, language=\"de\")\n",
    "    df = CollectionAccessor.get_MKG(metadata_path=MKG_DIR+\"/dumps/extraction_v0_1.csv\",\n",
    "                                    image_handler=image_handler,\n",
    "                                    **mkg_meta)\n",
    "    return df\n",
    "\n",
    "mkg = init_MKG()"
   ]
  },
  {
   "cell_type": "code",
   "execution_count": 38,
   "id": "69c03b55-145c-40c4-80b1-133e96f91398",
   "metadata": {},
   "outputs": [
    {
     "data": {
      "text/plain": [
       "True"
      ]
     },
     "execution_count": 38,
     "metadata": {},
     "output_type": "execute_result"
    }
   ],
   "source": [
    "mkg.coll.list_cols\n",
    "text_search_fields = [\"objectname_label\", \"material_label\", \"maker_label\", \"coiner_label\"]\n",
    "        \n",
    "# text_matches = []\n",
    "# for c in text_search_fields:\n",
    "#     cur_col = self._obj[c].apply(lambda ls: \" \".join(ls)) if c in self.list_cols else self._obj[c]\n",
    "\n",
    "\n",
    "def join_lists(x):\n",
    "    # if \"coiner_label\" in mkg.coll.list_cols:\n",
    "    try:\n",
    "        return \" \".join(x)\n",
    "    except TypeError:\n",
    "        print(x)    \n",
    "    # else self._obj[c]\n",
    "    \n",
    "mkg.material_label.fillna(\"\").apply(join_lists)\n",
    "\n",
    "\"objectname_label\" in mkg.coll.list_cols"
   ]
  }
 ],
 "metadata": {
  "kernelspec": {
   "display_name": "Python 3 (ipykernel)",
   "language": "python",
   "name": "python3"
  },
  "language_info": {
   "codemirror_mode": {
    "name": "ipython",
    "version": 3
   },
   "file_extension": ".py",
   "mimetype": "text/x-python",
   "name": "python",
   "nbconvert_exporter": "python",
   "pygments_lexer": "ipython3",
   "version": "3.12.7"
  }
 },
 "nbformat": 4,
 "nbformat_minor": 5
}
