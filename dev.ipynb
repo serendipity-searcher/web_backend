{
 "cells": [
  {
   "cell_type": "code",
   "execution_count": 1,
   "id": "fea07788-79e9-4363-843c-6c31682a9132",
   "metadata": {},
   "outputs": [],
   "source": [
    "from tqdm import tqdm\n",
    "tqdm.pandas()\n",
    "from glob import glob\n",
    "\n",
    "import json\n",
    "import csv\n",
    "import numpy as np\n",
    "import pandas as pd\n",
    "from collections import Counter\n",
    "\n",
    "import rdflib\n",
    "from rdflib import Graph\n",
    "from data.data import CollectionAccessor, ImageHandler\n",
    "\n",
    "from search import Search, Randomiser"
   ]
  },
  {
   "cell_type": "code",
   "execution_count": 2,
   "id": "9ffdd5f1-ed95-47d2-9cbd-6fa5e29d4858",
   "metadata": {
    "scrolled": true
   },
   "outputs": [
    {
     "name": "stdout",
     "output_type": "stream",
     "text": [
      "image paths loaded...\n",
      "./data/dumps/API_dump_public_2025-05-13.json ./data/dumps/API_dump_private_2025-05-13.json\n",
      "./data/dumps/API_dump_public_2025-05-13.json ./data/dumps/API_dump_private_2025-05-13.json\n",
      "('2025-05-13', './data/dumps/API_dump_public_2025-05-13_extracted.csv', './data/dumps/API_dump_private_2025-05-13_extracted.csv')\n"
     ]
    },
    {
     "name": "stderr",
     "output_type": "stream",
     "text": [
      "100%|████████████████████████████████| 24824/24824 [00:36<00:00, 677.21it/s]\n"
     ]
    }
   ],
   "source": [
    "def init_DMG():\n",
    "    image_folder = \"./data/images/DMG\"\n",
    "    image_handler = ImageHandler(image_folder=image_folder, keep_prefix=False)\n",
    "    print(\"image paths loaded...\")\n",
    "\n",
    "    time_stamp, pub_file, priv_file = CollectionAccessor.get_latest_dump(\"./data/dumps\")\n",
    "    print(CollectionAccessor.get_latest_dump(\"./data/dumps\"))\n",
    "\n",
    "    \n",
    "    dmg_meta = dict(name=\"Design Museum Gent (public & private)\", id_=\"DMG_\"+time_stamp,\n",
    "                creation_timestamp=time_stamp)\n",
    "    df = CollectionAccessor.get_DMG(pub_path=pub_file, #get_latest(\"./data/dumps\", contains=\"public\"),\n",
    "                                     priv_path=priv_file, #get_latest(\"./data/dumps\", contains=\"private\"),\n",
    "                                     rights_path=\"./data/rights.csv\",\n",
    "                                     image_handler=image_handler,\n",
    "                                     **dmg_meta)\n",
    "    \n",
    "    rand = Randomiser(df, name=\"Randomiser\")\n",
    "    rand2 = Randomiser(df, name=\"Randomiser\")\n",
    "    s = Search([rand, rand2])\n",
    "    return image_handler, df, s\n",
    "\n",
    "im, dmg, dmg_search = init_DMG()"
   ]
  },
  {
   "cell_type": "code",
   "execution_count": 20,
   "id": "897d462b-77f9-4a0b-b4fc-39414221775f",
   "metadata": {},
   "outputs": [],
   "source": [
    "recs = dmg.sample(4)\n",
    "searcher_ids = [s.id for s in dmg_search.searchers[:1]]"
   ]
  },
  {
   "cell_type": "code",
   "execution_count": 24,
   "id": "352611dd-8baf-4d89-a75f-c0a5c86f312f",
   "metadata": {},
   "outputs": [
    {
     "data": {
      "text/plain": [
       "object_number\n",
       "1992-0004_0-2    0.776923\n",
       "1992-0004_1-2    0.357817\n",
       "1992-0004_2-2    0.667643\n",
       "4521             0.466348\n",
       "5051             0.770696\n",
       "                   ...   \n",
       "2022-0028        0.341355\n",
       "2022-0025_0-3    0.363114\n",
       "2022-0025_1-3    0.415226\n",
       "2022-0025_2-3    0.771660\n",
       "2022-0025_3-3    0.559759\n",
       "Length: 24824, dtype: float64"
      ]
     },
     "execution_count": 24,
     "metadata": {},
     "output_type": "execute_result"
    }
   ],
   "source": [
    "dmg_search(recs, searcher_ids=searcher_ids)"
   ]
  },
  {
   "cell_type": "markdown",
   "id": "8ef1cbb6-a78f-4f60-bc65-ae755bbec9c4",
   "metadata": {},
   "source": [
    "---\n",
    "# DEV FUNCTIONS"
   ]
  },
  {
   "cell_type": "code",
   "execution_count": null,
   "id": "4ea3c5cb-6607-4274-82e7-b14291007d1a",
   "metadata": {},
   "outputs": [],
   "source": [
    "def search_collection(collection_id, object_ids, concept, model_list):\n",
    "    cur_coll = get_collection(collection_id)\n",
    "    object_ids = parse_id_list(object_ids)\n",
    "    model_list = parse_id_list(model_list)\n",
    "    cur_search = searches[collection_id]\n",
    "    print(object_ids)\n",
    "    scores = cur_search(object_ids)\n",
    "\n",
    "\n",
    "object_ids = \"1987-0120_04-14,1987-1343_2-4,3370,3703_0-2\"\n",
    "object_ids = parse_id_list(object_ids)\n",
    "object_ids\n",
    "recs = dmg.loc[object_ids]"
   ]
  },
  {
   "cell_type": "code",
   "execution_count": null,
   "id": "411db76c-6d1f-497e-8fbe-d88d4ea54b95",
   "metadata": {
    "scrolled": true
   },
   "outputs": [],
   "source": [
    "# searcher_scores = [cur_s(recs) for cur_s in dmg_search.searchers]\n",
    "# searcher_scores = pd.DataFrame({cur_s.name: cur_s for cur_s in searcher_scores})\n",
    "# searcher_scores.loc[recs.index] = 0.\n",
    "\n",
    "\n",
    "# searcher_scores.round(3)"
   ]
  },
  {
   "cell_type": "code",
   "execution_count": null,
   "id": "8564463e-e157-4e54-a6ca-7fcee8b8af82",
   "metadata": {},
   "outputs": [],
   "source": [
    "dmg.coll.filter(\"doos\")"
   ]
  },
  {
   "cell_type": "markdown",
   "id": "c9c6c6b7-1f72-4436-8e5d-7616b36664e6",
   "metadata": {},
   "source": [
    "---\n",
    "# TESTING ROUTES"
   ]
  },
  {
   "cell_type": "code",
   "execution_count": null,
   "id": "b285fa67-ca55-4c06-aa6e-17db0d1c3bba",
   "metadata": {},
   "outputs": [],
   "source": [
    "!curl \"http://0.0.0.0:8080/collections\""
   ]
  },
  {
   "cell_type": "code",
   "execution_count": null,
   "id": "ee99642f-c690-4683-836d-37f9aad2ed95",
   "metadata": {},
   "outputs": [],
   "source": [
    "!curl \"http://0.0.0.0:8080/DMG_2025-05-13\""
   ]
  },
  {
   "cell_type": "code",
   "execution_count": null,
   "id": "361936a4-a48d-4798-8bf6-058c2eccac92",
   "metadata": {},
   "outputs": [],
   "source": [
    "!curl \"http://0.0.0.0:8080/DMG_2025-05-13/object-details?object_ids=1987-0120_04-14,1987-1343_2-4,3370,3703_0-2\""
   ]
  },
  {
   "cell_type": "code",
   "execution_count": null,
   "id": "11e91252-5e3e-44da-aa55-75916d39ff4b",
   "metadata": {},
   "outputs": [],
   "source": [
    "!curl \"http://0.0.0.0:8080/DMG_2025-05-13/models\""
   ]
  },
  {
   "cell_type": "code",
   "execution_count": null,
   "id": "82166689-1dd1-495a-a217-e58bc9716ebf",
   "metadata": {},
   "outputs": [],
   "source": [
    "!curl \"http://0.0.0.0:8080/moon?ISO_8601_datetime=2024-05-13&lat_degrees=51.05&long_degrees=3.71\""
   ]
  },
  {
   "cell_type": "code",
   "execution_count": null,
   "id": "951ce09b-2b36-46e3-9048-725e6f24912f",
   "metadata": {
    "scrolled": true
   },
   "outputs": [],
   "source": [
    "# default params for search\n",
    "!curl \"http://0.0.0.0:8080/DMG_2025-05-13/search\""
   ]
  },
  {
   "cell_type": "code",
   "execution_count": null,
   "id": "0762b5a0-b8ed-4ef6-a121-4b1b64b45856",
   "metadata": {
    "scrolled": true
   },
   "outputs": [],
   "source": [
    "!curl \"http://0.0.0.0:8080/DMG_2025-05-13/search?object_ids=\"1987-0120_04-14,1987-1343_2-4,3370,3703_0-2\"&concept=\"hello\"&model_list=\"a,b\"\""
   ]
  },
  {
   "cell_type": "code",
   "execution_count": null,
   "id": "b8fc7eec-4f9c-4ddf-9dfc-e0884cfd425e",
   "metadata": {},
   "outputs": [],
   "source": [
    "!curl \"http://0.0.0.0:8080/DMG_2025-05-13/search/order?object_ids=\"1987-0120_04-14,1987-1343_2-4,3370,3703_0-2\"&concept=\"hello\"&model_list=\"a,b\"&skip=200&limit=100&reverse=true\""
   ]
  },
  {
   "cell_type": "code",
   "execution_count": null,
   "id": "ab478dc8-d4e1-4aed-898a-0b2e3cbfbdc4",
   "metadata": {},
   "outputs": [],
   "source": [
    "!curl \"http://0.0.0.0:8080/DMG_2025-05-13/search/sample?object_ids=\"1987-0120_04-14,1987-1343_2-4,3370,3703_0-2\"&concept=\"hello\"&model_list=\"a,b\"&k=12\""
   ]
  },
  {
   "cell_type": "code",
   "execution_count": null,
   "id": "ee771608-6ed5-4f4a-9fec-1edf674506fe",
   "metadata": {},
   "outputs": [],
   "source": [
    "!curl \"http://0.0.0.0:8080/DMG_2025-05-13/search/order/filter?object_ids=\"1987-0120_04-14,1987-1343_2-4,3370,3703_0-2\"&concept=\"hello\"&model_list=\"a,b\"&filter_text=\"doos\"&skip=200&limit=100\""
   ]
  },
  {
   "cell_type": "markdown",
   "id": "a08923e8-064b-46c2-b365-b94125247f15",
   "metadata": {},
   "source": [
    "---"
   ]
  },
  {
   "cell_type": "code",
   "execution_count": null,
   "id": "1d5aeeb6-a45d-44e2-90e8-299814dc5ad4",
   "metadata": {},
   "outputs": [],
   "source": [
    "import requests as rq\n",
    "base = \"http://0.0.0.0:8080/\"\n",
    "path = \"moon\"\n",
    "for d in range(10, 30):\n",
    "    q = dict(ISO_8601_datetime=f\"2024-05-{d}\", lat_long_degrees=\"51.05,3.71\")\n",
    "    print(q)\n",
    "    resp = rq.get(base+path, params=q)\n",
    "    \n",
    "    print(resp.json())"
   ]
  }
 ],
 "metadata": {
  "kernelspec": {
   "display_name": "Python 3 (ipykernel)",
   "language": "python",
   "name": "python3"
  },
  "language_info": {
   "codemirror_mode": {
    "name": "ipython",
    "version": 3
   },
   "file_extension": ".py",
   "mimetype": "text/x-python",
   "name": "python",
   "nbconvert_exporter": "python",
   "pygments_lexer": "ipython3",
   "version": "3.12.7"
  }
 },
 "nbformat": 4,
 "nbformat_minor": 5
}
