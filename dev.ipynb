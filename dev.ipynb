{
 "cells": [
  {
   "cell_type": "code",
   "execution_count": null,
   "id": "fea07788-79e9-4363-843c-6c31682a9132",
   "metadata": {},
   "outputs": [],
   "source": [
    "from tqdm import tqdm\n",
    "tqdm.pandas()\n",
    "from glob import glob\n",
    "\n",
    "import json\n",
    "import csv\n",
    "import numpy as np\n",
    "import pandas as pd\n",
    "from collections import Counter\n",
    "\n",
    "import rdflib\n",
    "from rdflib import Graph\n",
    "from data.data import CollectionAccessor, ImageHandler\n",
    "\n",
    "from search import Search, Randomiser"
   ]
  },
  {
   "cell_type": "code",
   "execution_count": null,
   "id": "c43d7944-d536-4a62-b422-bf924dc89e56",
   "metadata": {},
   "outputs": [],
   "source": [
    "def init_DMG(images_path):\n",
    "    if images_path is not None:\n",
    "        image_handler = ImageHandler(image_folder=images_path, keep_prefix=True)\n",
    "    else:\n",
    "        image_handler = None\n",
    "\n",
    "    time_stamp, pub_file, priv_file = CollectionAccessor.get_latest_dump(\"./data/dumps\")\n",
    "    # print(CollectionAccessor.get_latest_dump(\"./data/dumps\"))\n",
    "\n",
    "    \n",
    "    dmg_meta = dict(name=\"Design Museum Gent (public & private)\", id_=\"DMG_\"+time_stamp,\n",
    "                creation_timestamp=time_stamp)\n",
    "    df = CollectionAccessor.get_DMG(pub_path=pub_file, #get_latest(\"./data/dumps\", contains=\"public\"),\n",
    "                                     priv_path=priv_file, #get_latest(\"./data/dumps\", contains=\"private\"),\n",
    "                                     rights_path=\"./data/rights.csv\",\n",
    "                                     image_handler=image_handler,\n",
    "                                     **dmg_meta)\n",
    "    return image_handler, df\n",
    "\n",
    "image_handler, dmg = init_DMG(\"./data/images/\")"
   ]
  },
  {
   "cell_type": "code",
   "execution_count": null,
   "id": "ec25c87f-88ca-4d91-b3ae-e65979c72da1",
   "metadata": {},
   "outputs": [],
   "source": [
    "dmg.image_path.fillna(False).apply(lambda ls: (ls[0] if ls else None))"
   ]
  },
  {
   "cell_type": "code",
   "execution_count": null,
   "id": "9ffdd5f1-ed95-47d2-9cbd-6fa5e29d4858",
   "metadata": {
    "scrolled": true
   },
   "outputs": [],
   "source": [
    "def init_DMG():\n",
    "    image_folder = \"./data/images/DMG\"\n",
    "    image_handler = ImageHandler(image_folder=image_folder, keep_prefix=False)\n",
    "    print(\"image paths loaded...\")\n",
    "\n",
    "    time_stamp, pub_file, priv_file = CollectionAccessor.get_latest_dump(\"./data/dumps\")\n",
    "    print(CollectionAccessor.get_latest_dump(\"./data/dumps\"))\n",
    "\n",
    "    \n",
    "    dmg_meta = dict(name=\"Design Museum Gent (public & private)\", id_=\"DMG_\"+time_stamp,\n",
    "                creation_timestamp=time_stamp)\n",
    "    df = CollectionAccessor.get_DMG(pub_path=pub_file, #get_latest(\"./data/dumps\", contains=\"public\"),\n",
    "                                     priv_path=priv_file, #get_latest(\"./data/dumps\", contains=\"private\"),\n",
    "                                     rights_path=\"./data/rights.csv\",\n",
    "                                     image_handler=image_handler,\n",
    "                                     **dmg_meta)\n",
    "    \n",
    "    rand = Randomiser(df, name=\"Randomiser\")\n",
    "    rand2 = Randomiser(df, name=\"Randomiser\")\n",
    "    s = Search([rand, rand2])\n",
    "    return image_handler, df, s\n",
    "\n",
    "im, dmg, dmg_search = init_DMG()"
   ]
  },
  {
   "cell_type": "code",
   "execution_count": null,
   "id": "897d462b-77f9-4a0b-b4fc-39414221775f",
   "metadata": {},
   "outputs": [],
   "source": [
    "recs = dmg.sample(4)\n",
    "searcher_ids = [s.id for s in dmg_search.searchers[:1]]"
   ]
  },
  {
   "cell_type": "code",
   "execution_count": null,
   "id": "352611dd-8baf-4d89-a75f-c0a5c86f312f",
   "metadata": {},
   "outputs": [],
   "source": [
    "dmg_search(recs, searcher_ids=searcher_ids)"
   ]
  },
  {
   "cell_type": "markdown",
   "id": "8ef1cbb6-a78f-4f60-bc65-ae755bbec9c4",
   "metadata": {},
   "source": [
    "---\n",
    "# DEV FUNCTIONS"
   ]
  },
  {
   "cell_type": "code",
   "execution_count": null,
   "id": "4ea3c5cb-6607-4274-82e7-b14291007d1a",
   "metadata": {},
   "outputs": [],
   "source": [
    "def search_collection(collection_id, object_ids, concept, model_list):\n",
    "    cur_coll = get_collection(collection_id)\n",
    "    object_ids = parse_id_list(object_ids)\n",
    "    model_list = parse_id_list(model_list)\n",
    "    cur_search = searches[collection_id]\n",
    "    print(object_ids)\n",
    "    scores = cur_search(object_ids)\n",
    "\n",
    "\n",
    "object_ids = \"1987-0120_04-14,1987-1343_2-4,3370,3703_0-2\"\n",
    "object_ids = parse_id_list(object_ids)\n",
    "object_ids\n",
    "recs = dmg.loc[object_ids]"
   ]
  },
  {
   "cell_type": "code",
   "execution_count": null,
   "id": "411db76c-6d1f-497e-8fbe-d88d4ea54b95",
   "metadata": {
    "scrolled": true
   },
   "outputs": [],
   "source": [
    "# searcher_scores = [cur_s(recs) for cur_s in dmg_search.searchers]\n",
    "# searcher_scores = pd.DataFrame({cur_s.name: cur_s for cur_s in searcher_scores})\n",
    "# searcher_scores.loc[recs.index] = 0.\n",
    "\n",
    "\n",
    "# searcher_scores.round(3)"
   ]
  },
  {
   "cell_type": "code",
   "execution_count": null,
   "id": "8564463e-e157-4e54-a6ca-7fcee8b8af82",
   "metadata": {},
   "outputs": [],
   "source": [
    "\n",
    "\n",
    "dmg.coll.filter(\"doos\")"
   ]
  },
  {
   "cell_type": "markdown",
   "id": "c9c6c6b7-1f72-4436-8e5d-7616b36664e6",
   "metadata": {},
   "source": [
    "---\n",
    "# TESTING ROUTES"
   ]
  },
  {
   "cell_type": "code",
   "execution_count": null,
   "id": "b285fa67-ca55-4c06-aa6e-17db0d1c3bba",
   "metadata": {},
   "outputs": [],
   "source": [
    "!curl \"http://0.0.0.0:8080/collections\""
   ]
  },
  {
   "cell_type": "code",
   "execution_count": null,
   "id": "ee99642f-c690-4683-836d-37f9aad2ed95",
   "metadata": {},
   "outputs": [],
   "source": [
    "!curl \"http://0.0.0.0:8080/DMG_2025-05-13\""
   ]
  },
  {
   "cell_type": "code",
   "execution_count": null,
   "id": "361936a4-a48d-4798-8bf6-058c2eccac92",
   "metadata": {},
   "outputs": [],
   "source": [
    "!curl \"http://0.0.0.0:8080/DMG_2025-05-13/object-details?object_ids=1987-0120_04-14,1987-1343_2-4,3370,3703_0-2\""
   ]
  },
  {
   "cell_type": "code",
   "execution_count": null,
   "id": "11e91252-5e3e-44da-aa55-75916d39ff4b",
   "metadata": {},
   "outputs": [],
   "source": [
    "!curl \"http://0.0.0.0:8080/DMG_2025-05-13/models\""
   ]
  },
  {
   "cell_type": "code",
   "execution_count": null,
   "id": "82166689-1dd1-495a-a217-e58bc9716ebf",
   "metadata": {},
   "outputs": [],
   "source": [
    "!curl \"http://0.0.0.0:8080/moon?ISO_8601_datetime=2024-05-13&lat_degrees=51.05&long_degrees=3.71\""
   ]
  },
  {
   "cell_type": "code",
   "execution_count": null,
   "id": "951ce09b-2b36-46e3-9048-725e6f24912f",
   "metadata": {
    "scrolled": true
   },
   "outputs": [],
   "source": [
    "# default params for search\n",
    "!curl \"http://0.0.0.0:8080/DMG_2025-05-13/search\""
   ]
  },
  {
   "cell_type": "code",
   "execution_count": null,
   "id": "0762b5a0-b8ed-4ef6-a121-4b1b64b45856",
   "metadata": {
    "scrolled": true
   },
   "outputs": [],
   "source": [
    "!curl \"http://0.0.0.0:8080/DMG_2025-05-13/search?object_ids=\"1987-0120_04-14,1987-1343_2-4,3370,3703_0-2\"&concept=\"schreeuw\"&model_list=\"\"\""
   ]
  },
  {
   "cell_type": "code",
   "execution_count": null,
   "id": "b8fc7eec-4f9c-4ddf-9dfc-e0884cfd425e",
   "metadata": {
    "scrolled": true
   },
   "outputs": [],
   "source": [
    "!curl \"http://0.0.0.0:8080/DMG_2025-05-13/search/order?object_ids=\"1987-0120_04-14,1987-1343_2-4,3370,3703_0-2\"&concept=\"hello\"&model_list=\"a,b\"&skip=200&limit=100&reverse=true\""
   ]
  },
  {
   "cell_type": "code",
   "execution_count": null,
   "id": "ab478dc8-d4e1-4aed-898a-0b2e3cbfbdc4",
   "metadata": {},
   "outputs": [],
   "source": [
    "!curl \"http://0.0.0.0:8080/DMG_2025-05-13/search/sample?object_ids=\"1987-0120_04-14,1987-1343_2-4,3370,3703_0-2\"&concept=\"hello\"&model_list=\"a,b\"&k=12\""
   ]
  },
  {
   "cell_type": "code",
   "execution_count": null,
   "id": "ee771608-6ed5-4f4a-9fec-1edf674506fe",
   "metadata": {},
   "outputs": [],
   "source": [
    "!curl \"http://0.0.0.0:8080/DMG_2025-05-13/search/order/filter?object_ids=\"1987-0120_04-14,1987-1343_2-4,3370,3703_0-2\"&concept=\"hello\"&model_ids=\"\"&filter_text=\"doosje\"\""
   ]
  },
  {
   "cell_type": "markdown",
   "id": "a08923e8-064b-46c2-b365-b94125247f15",
   "metadata": {},
   "source": [
    "---\n",
    "\n",
    "# routes 2"
   ]
  },
  {
   "cell_type": "code",
   "execution_count": 1,
   "id": "a397a50f-a74d-4ec9-9daf-d57b5118d227",
   "metadata": {},
   "outputs": [],
   "source": [
    "import requests as rq\n",
    "from time import time\n",
    "from tqdm import tqdm\n",
    "import pandas as pd\n",
    "\n",
    "base = \"http://0.0.0.0:8080/\"\n",
    "# collection_id=\"DMG_2025-05-13/\""
   ]
  },
  {
   "cell_type": "code",
   "execution_count": 2,
   "id": "66c59bff-5c99-46df-8e92-3314215ab9cd",
   "metadata": {},
   "outputs": [],
   "source": [
    "path = \"search\"\n",
    "scores = []\n",
    "for d in rq.get(base+\"/collections\").json():\n",
    "    collection_id = d[\"id\"] +\"/\"\n",
    "    params = dict(object_ids=\"\", concept=\"\", model_ids=\"\") #,\".join(models))\n",
    "    search_res = rq.get(base+collection_id+path, params).json()\n",
    "    scores.append(pd.Series(search_res).sort_values())\n",
    "    # score_ls.append(scores)\n",
    "\n",
    "    # print(rq.get(base+coll_id+\"/models\").json())\n",
    "    "
   ]
  },
  {
   "cell_type": "code",
   "execution_count": 3,
   "id": "f3241596-0b50-48ce-9b7b-904c649bc845",
   "metadata": {},
   "outputs": [],
   "source": [
    "path = \"search/order\"\n",
    "models = rq.get(base+collection_id+\"models\").json()\n",
    "models = [d[\"id\"] for d in models]\n",
    "params = dict(object_ids=\"IE1896.152,O1912.472,1984.496,O1911.243\", concept=\"\", model_ids=\",\".join(models))\n",
    "search_res = rq.get(base+collection_id+path, params).json()\n",
    "# pd.Series(search_res).hist()"
   ]
  },
  {
   "cell_type": "code",
   "execution_count": 4,
   "id": "cb86bbc0-52de-4f17-b85c-348735fea76e",
   "metadata": {},
   "outputs": [
    {
     "data": {
      "text/html": [
       "<div>\n",
       "<style scoped>\n",
       "    .dataframe tbody tr th:only-of-type {\n",
       "        vertical-align: middle;\n",
       "    }\n",
       "\n",
       "    .dataframe tbody tr th {\n",
       "        vertical-align: top;\n",
       "    }\n",
       "\n",
       "    .dataframe thead th {\n",
       "        text-align: right;\n",
       "    }\n",
       "</style>\n",
       "<table border=\"1\" class=\"dataframe\">\n",
       "  <thead>\n",
       "    <tr style=\"text-align: right;\">\n",
       "      <th></th>\n",
       "      <th>inventory_number</th>\n",
       "      <th>title</th>\n",
       "      <th>description</th>\n",
       "      <th>designer</th>\n",
       "      <th>producer</th>\n",
       "      <th>design_date</th>\n",
       "      <th>production_date</th>\n",
       "      <th>design_place</th>\n",
       "      <th>production_place</th>\n",
       "      <th>rights_attribution</th>\n",
       "      <th>image_path</th>\n",
       "    </tr>\n",
       "  </thead>\n",
       "  <tbody>\n",
       "    <tr>\n",
       "      <th>0</th>\n",
       "      <td>EG1989.1.128</td>\n",
       "      <td>Frau in langem Gewand mit Umhang</td>\n",
       "      <td>Frau in langem Gewand mit Umhang nach links st...</td>\n",
       "      <td>Wolff, Gustav Heinrich</td>\n",
       "      <td>Wolff, Gustav Heinrich</td>\n",
       "      <td>1925</td>\n",
       "      <td>1925</td>\n",
       "      <td>Deutschland</td>\n",
       "      <td>Deutschland</td>\n",
       "      <td>In Copyright</td>\n",
       "      <td></td>\n",
       "    </tr>\n",
       "    <tr>\n",
       "      <th>1</th>\n",
       "      <td>EG1989.1.186</td>\n",
       "      <td>Sitzender weiblicher Akt</td>\n",
       "      <td>Skizze eines sitzenden weiblichen Aktes mit de...</td>\n",
       "      <td>Wolff, Gustav Heinrich</td>\n",
       "      <td>Wolff, Gustav Heinrich</td>\n",
       "      <td>1926</td>\n",
       "      <td>1926</td>\n",
       "      <td>Deutschland</td>\n",
       "      <td>Deutschland</td>\n",
       "      <td>In Copyright</td>\n",
       "      <td></td>\n",
       "    </tr>\n",
       "    <tr>\n",
       "      <th>2</th>\n",
       "      <td>O1895.610</td>\n",
       "      <td>Prunkwagen, Blatt aus einer Folge</td>\n",
       "      <td>Blatt aus einer Folge von Prunkwagen.</td>\n",
       "      <td>Hoppenhaupt, Johann Michael</td>\n",
       "      <td>Hoppenhaupt, Johann Michael</td>\n",
       "      <td>1750 — 1755</td>\n",
       "      <td>1750 — 1755</td>\n",
       "      <td>Berlin</td>\n",
       "      <td>Berlin</td>\n",
       "      <td>In Copyright</td>\n",
       "      <td></td>\n",
       "    </tr>\n",
       "    <tr>\n",
       "      <th>3</th>\n",
       "      <td>EG2018.23.100</td>\n",
       "      <td>Waisenhaus, Hamburg. Wettbewerbsentwurf Kernko...</td>\n",
       "      <td>Waisenhaus, Hamburg. Wettbewerbsentwurf Kernko...</td>\n",
       "      <td>Bülau, Theodor</td>\n",
       "      <td>Bülau, Theodor</td>\n",
       "      <td>1854</td>\n",
       "      <td>1854</td>\n",
       "      <td>Hamburg</td>\n",
       "      <td>Hamburg</td>\n",
       "      <td>In Copyright</td>\n",
       "      <td></td>\n",
       "    </tr>\n",
       "    <tr>\n",
       "      <th>4</th>\n",
       "      <td>EG2018.23.28</td>\n",
       "      <td>Doppelhaus, Raboisen 66-68, Hamburg. Kellerfen...</td>\n",
       "      <td>Doppelhaus, Raboisen 66-68, Hamburg. Kellerfen...</td>\n",
       "      <td>Bülau, Theodor</td>\n",
       "      <td>Bülau, Theodor</td>\n",
       "      <td>1845</td>\n",
       "      <td>1845</td>\n",
       "      <td>Hamburg</td>\n",
       "      <td>Hamburg</td>\n",
       "      <td>In Copyright</td>\n",
       "      <td></td>\n",
       "    </tr>\n",
       "    <tr>\n",
       "      <th>...</th>\n",
       "      <td>...</td>\n",
       "      <td>...</td>\n",
       "      <td>...</td>\n",
       "      <td>...</td>\n",
       "      <td>...</td>\n",
       "      <td>...</td>\n",
       "      <td>...</td>\n",
       "      <td>...</td>\n",
       "      <td>...</td>\n",
       "      <td>...</td>\n",
       "      <td>...</td>\n",
       "    </tr>\n",
       "    <tr>\n",
       "      <th>26289</th>\n",
       "      <td>2012.163</td>\n",
       "      <td></td>\n",
       "      <td>Vier Korpusteile: Birne, oberes und unteres Mi...</td>\n",
       "      <td>Pask &amp; Koenig</td>\n",
       "      <td>Pask &amp; Koenig</td>\n",
       "      <td>1846 — 1855</td>\n",
       "      <td>1846 — 1855</td>\n",
       "      <td>London</td>\n",
       "      <td>London</td>\n",
       "      <td>In Copyright</td>\n",
       "      <td></td>\n",
       "    </tr>\n",
       "    <tr>\n",
       "      <th>26290</th>\n",
       "      <td>IE1896.152</td>\n",
       "      <td>Kuzufu-Stoff: Eine Übersicht</td>\n",
       "      <td></td>\n",
       "      <td>Nakajima Gyōzan</td>\n",
       "      <td>Nakajima Gyōzan</td>\n",
       "      <td>1872</td>\n",
       "      <td>1872</td>\n",
       "      <td>Tokio</td>\n",
       "      <td>Tokio</td>\n",
       "      <td>In Copyright</td>\n",
       "      <td></td>\n",
       "    </tr>\n",
       "    <tr>\n",
       "      <th>26291</th>\n",
       "      <td>1984.496</td>\n",
       "      <td>Pelike (A: Kampf von Herakles und einer Amazon...</td>\n",
       "      <td>Bauchiges Gefäß auf auswärts gespreiztem Fuß. ...</td>\n",
       "      <td>Klasse der Rote-Linien-Peliken</td>\n",
       "      <td>Klasse der Rote-Linien-Peliken</td>\n",
       "      <td>-0510 — -0490</td>\n",
       "      <td>-0510 — -0490</td>\n",
       "      <td>Athen</td>\n",
       "      <td>Athen</td>\n",
       "      <td>In Copyright</td>\n",
       "      <td></td>\n",
       "    </tr>\n",
       "    <tr>\n",
       "      <th>26292</th>\n",
       "      <td>O1911.243</td>\n",
       "      <td>Treppen</td>\n",
       "      <td>Treppen mit Grundriss. Blatt 1 (SSS 409) aus e...</td>\n",
       "      <td>Anckermann, Bernhard Christoph</td>\n",
       "      <td>Anckermann, Bernhard Christoph</td>\n",
       "      <td>1725 — 1735</td>\n",
       "      <td>1725 — 1735</td>\n",
       "      <td>Augsburg</td>\n",
       "      <td>Augsburg</td>\n",
       "      <td>In Copyright</td>\n",
       "      <td></td>\n",
       "    </tr>\n",
       "    <tr>\n",
       "      <th>26293</th>\n",
       "      <td>O1912.472</td>\n",
       "      <td>Querschnitt, Grund- und Aufriss eines Kaffeeti...</td>\n",
       "      <td>Blatt (wohl 27) aus der Folge \"Unterschiedlich...</td>\n",
       "      <td>Grässman, Johann Jacob</td>\n",
       "      <td>Grässman, Johann Jacob</td>\n",
       "      <td>1715 — 1725</td>\n",
       "      <td>1715 — 1725</td>\n",
       "      <td>Deutschland</td>\n",
       "      <td>Deutschland</td>\n",
       "      <td>In Copyright</td>\n",
       "      <td></td>\n",
       "    </tr>\n",
       "  </tbody>\n",
       "</table>\n",
       "<p>26294 rows × 11 columns</p>\n",
       "</div>"
      ],
      "text/plain": [
       "      inventory_number                                              title  \\\n",
       "0         EG1989.1.128                   Frau in langem Gewand mit Umhang   \n",
       "1         EG1989.1.186                           Sitzender weiblicher Akt   \n",
       "2            O1895.610                  Prunkwagen, Blatt aus einer Folge   \n",
       "3        EG2018.23.100  Waisenhaus, Hamburg. Wettbewerbsentwurf Kernko...   \n",
       "4         EG2018.23.28  Doppelhaus, Raboisen 66-68, Hamburg. Kellerfen...   \n",
       "...                ...                                                ...   \n",
       "26289         2012.163                                                      \n",
       "26290       IE1896.152                       Kuzufu-Stoff: Eine Übersicht   \n",
       "26291         1984.496  Pelike (A: Kampf von Herakles und einer Amazon...   \n",
       "26292        O1911.243                                            Treppen   \n",
       "26293        O1912.472  Querschnitt, Grund- und Aufriss eines Kaffeeti...   \n",
       "\n",
       "                                             description  \\\n",
       "0      Frau in langem Gewand mit Umhang nach links st...   \n",
       "1      Skizze eines sitzenden weiblichen Aktes mit de...   \n",
       "2                  Blatt aus einer Folge von Prunkwagen.   \n",
       "3      Waisenhaus, Hamburg. Wettbewerbsentwurf Kernko...   \n",
       "4      Doppelhaus, Raboisen 66-68, Hamburg. Kellerfen...   \n",
       "...                                                  ...   \n",
       "26289  Vier Korpusteile: Birne, oberes und unteres Mi...   \n",
       "26290                                                      \n",
       "26291  Bauchiges Gefäß auf auswärts gespreiztem Fuß. ...   \n",
       "26292  Treppen mit Grundriss. Blatt 1 (SSS 409) aus e...   \n",
       "26293  Blatt (wohl 27) aus der Folge \"Unterschiedlich...   \n",
       "\n",
       "                             designer                        producer  \\\n",
       "0              Wolff, Gustav Heinrich          Wolff, Gustav Heinrich   \n",
       "1              Wolff, Gustav Heinrich          Wolff, Gustav Heinrich   \n",
       "2         Hoppenhaupt, Johann Michael     Hoppenhaupt, Johann Michael   \n",
       "3                      Bülau, Theodor                  Bülau, Theodor   \n",
       "4                      Bülau, Theodor                  Bülau, Theodor   \n",
       "...                               ...                             ...   \n",
       "26289                   Pask & Koenig                   Pask & Koenig   \n",
       "26290                 Nakajima Gyōzan                 Nakajima Gyōzan   \n",
       "26291  Klasse der Rote-Linien-Peliken  Klasse der Rote-Linien-Peliken   \n",
       "26292  Anckermann, Bernhard Christoph  Anckermann, Bernhard Christoph   \n",
       "26293          Grässman, Johann Jacob          Grässman, Johann Jacob   \n",
       "\n",
       "         design_date production_date design_place production_place  \\\n",
       "0               1925            1925  Deutschland      Deutschland   \n",
       "1               1926            1926  Deutschland      Deutschland   \n",
       "2        1750 — 1755     1750 — 1755       Berlin           Berlin   \n",
       "3               1854            1854      Hamburg          Hamburg   \n",
       "4               1845            1845      Hamburg          Hamburg   \n",
       "...              ...             ...          ...              ...   \n",
       "26289    1846 — 1855     1846 — 1855       London           London   \n",
       "26290           1872            1872        Tokio            Tokio   \n",
       "26291  -0510 — -0490   -0510 — -0490        Athen            Athen   \n",
       "26292    1725 — 1735     1725 — 1735     Augsburg         Augsburg   \n",
       "26293    1715 — 1725     1715 — 1725  Deutschland      Deutschland   \n",
       "\n",
       "      rights_attribution image_path  \n",
       "0           In Copyright             \n",
       "1           In Copyright             \n",
       "2           In Copyright             \n",
       "3           In Copyright             \n",
       "4           In Copyright             \n",
       "...                  ...        ...  \n",
       "26289       In Copyright             \n",
       "26290       In Copyright             \n",
       "26291       In Copyright             \n",
       "26292       In Copyright             \n",
       "26293       In Copyright             \n",
       "\n",
       "[26294 rows x 11 columns]"
      ]
     },
     "execution_count": 4,
     "metadata": {},
     "output_type": "execute_result"
    }
   ],
   "source": [
    "pd.DataFrame.from_records(search_res)"
   ]
  },
  {
   "cell_type": "code",
   "execution_count": null,
   "id": "4dec2785-ea6f-48f2-afa2-27a61405aba7",
   "metadata": {},
   "outputs": [],
   "source": [
    "path = \"models\"\n",
    "models = rq.get(base+collection_id+path).json()\n",
    "models = [m[\"id\"] for m in models]\n",
    "models"
   ]
  },
  {
   "cell_type": "code",
   "execution_count": null,
   "id": "0be75425-a0fb-4c75-a0be-f542ccea8095",
   "metadata": {},
   "outputs": [],
   "source": [
    "dmg.coll.filter(\"stoel\")\n",
    "# dmg.loc[[\"1999-0032_03-15\"]].coll.get_texts()"
   ]
  },
  {
   "cell_type": "code",
   "execution_count": null,
   "id": "c5773a23-f40b-4d26-9fc9-4605f48918b1",
   "metadata": {},
   "outputs": [],
   "source": [
    "path = \"search/order\"\n",
    "\n",
    "params = dict(object_ids=\"3535\", concept=\"stoel\", model_ids=\",\".join(models))\n",
    "search_res = rq.get(base+collection_id+path, params).json()\n",
    "# scores = pd.Series(search_res).sort_values()\n",
    "\n",
    "\n",
    "print(\"\\n\".join(pd.DataFrame.from_records(search_res).title[:10]))"
   ]
  },
  {
   "cell_type": "code",
   "execution_count": null,
   "id": "e7446d67-2e73-488e-939d-d5c14ba69175",
   "metadata": {},
   "outputs": [],
   "source": [
    "score_ls = []\n",
    "path = \"search\"\n",
    "for m in models:\n",
    "    print(parse_id_list(m))\n",
    "    params = dict(object_ids=\"1999-0032_03-15\", concept=\"\", model_ids=m) #,\".join(models))\n",
    "    search_res = rq.get(base+collection_id+path, params).json()\n",
    "    scores = pd.Series(search_res).sort_values()\n",
    "    score_ls.append(scores)\n",
    "    print(scores.index[-10:])\n",
    "\n",
    "\n",
    "params = dict(object_ids=\"\", concept=\"meubel\", model_ids=\"\") #,\".join(models))\n",
    "search_res = rq.get(base+collection_id+path, params).json()\n",
    "scores = pd.Series(search_res).sort_values()\n",
    "score_ls.append(scores)\n"
   ]
  },
  {
   "cell_type": "code",
   "execution_count": null,
   "id": "095f2f68-6661-4e79-9a64-83e5f5d468e9",
   "metadata": {},
   "outputs": [],
   "source": [
    "# dmg.loc[scores.sort_values()[-10:].index]\n",
    "# dmg.coll.order(scores)\n",
    "pd.DataFrame.from_records(search_res)\n",
    "\n"
   ]
  },
  {
   "cell_type": "code",
   "execution_count": null,
   "id": "b9af1118-f16a-48f1-a545-8a3b58704f9d",
   "metadata": {},
   "outputs": [],
   "source": [
    "dmg.loc[\"2003-0147_2-2\"]"
   ]
  },
  {
   "cell_type": "code",
   "execution_count": null,
   "id": "1d5aeeb6-a45d-44e2-90e8-299814dc5ad4",
   "metadata": {},
   "outputs": [],
   "source": [
    "\n",
    "models = rq.get(\"http://0.0.0.0:8080/DMG_2025-05-13/models\").json()\n",
    "models = [d[\"id\"] for d in models]\n",
    "\n",
    "# for d in range(10, 30):\n",
    "#     q = dict(ISO_8601_datetime=f\"2024-05-{d}\", \n",
    "#              lat_long_degrees=\"51.05,3.71\")\n",
    "timings = []\n",
    "for _ in tqdm(range(100)):\n",
    "    q = dict(object_ids=\"2015-0130,1987-1343_2-4,2001-0086,3703_0-2\",\n",
    "                 concept=\"twee halskettingen, deze zitten samen in 1 doosje\",\n",
    "                 model_list=\",\".join(models))\n",
    "    \n",
    "    # print(base+collection_id+path)\n",
    "    # print(q)\n",
    "    \n",
    "    t0 = time()\n",
    "    \n",
    "    resp = rq.get(base+collection_id+path, params=q)\n",
    "        \n",
    "    resp.json()\n",
    "    \n",
    "    # print(time() - t0)\n",
    "    timings.append(time() - t0)"
   ]
  },
  {
   "cell_type": "code",
   "execution_count": null,
   "id": "e83964c4-03d4-4cf3-911b-39a6bf539ccf",
   "metadata": {
    "scrolled": true
   },
   "outputs": [],
   "source": [
    "import pandas as pd\n",
    "pd.Series(timings).hist(bins=40)"
   ]
  }
 ],
 "metadata": {
  "kernelspec": {
   "display_name": "Python 3 (ipykernel)",
   "language": "python",
   "name": "python3"
  },
  "language_info": {
   "codemirror_mode": {
    "name": "ipython",
    "version": 3
   },
   "file_extension": ".py",
   "mimetype": "text/x-python",
   "name": "python",
   "nbconvert_exporter": "python",
   "pygments_lexer": "ipython3",
   "version": "3.12.7"
  }
 },
 "nbformat": 4,
 "nbformat_minor": 5
}
