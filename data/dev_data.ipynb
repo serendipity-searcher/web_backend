{
 "cells": [
  {
   "cell_type": "code",
   "execution_count": null,
   "id": "48acc082-ab7c-4707-aa7d-d99ec2ff0058",
   "metadata": {},
   "outputs": [],
   "source": [
    "import pandas as pd\n",
    "from data import CollectionAccessor, ImageHandler"
   ]
  },
  {
   "cell_type": "code",
   "execution_count": null,
   "id": "49ab0c5d-a339-467d-8fb6-674bc6f86324",
   "metadata": {},
   "outputs": [],
   "source": [
    "image_folder = \"./DMG/images\"\n",
    "image_handler = ImageHandler(image_folder=image_folder, keep_prefix=False)\n",
    "\n",
    "time_stamp, pub_file, priv_file = CollectionAccessor.get_latest_dump(\"./DMG/dumps\")\n",
    "\n",
    "\n",
    "dmg_meta = dict(name=\"Design Museum Gent (public & private)\", id_=\"DMG_\"+time_stamp,\n",
    "                creation_timestamp=time_stamp)\n",
    "dmg = CollectionAccessor.get_DMG(pub_path=pub_file, #get_latest(\"./data/dumps\", contains=\"public\"),\n",
    "                                     priv_path=priv_file, #get_latest(\"./data/dumps\", contains=\"private\"),\n",
    "                                     rights_path=\"./DMG/rights.csv\",\n",
    "                                     image_handler=image_handler,\n",
    "                                     **dmg_meta)\n"
   ]
  },
  {
   "cell_type": "code",
   "execution_count": null,
   "id": "0ad2194f-c602-4af5-8d72-a70d68361848",
   "metadata": {
    "scrolled": true
   },
   "outputs": [],
   "source": [
    "print(\"\\n\".join(dmg.columns))"
   ]
  },
  {
   "cell_type": "code",
   "execution_count": null,
   "id": "292663a3-159f-4923-9852-4525825f9de1",
   "metadata": {},
   "outputs": [],
   "source": [
    "dmg.coll.filter(\"2009-0089\")"
   ]
  },
  {
   "cell_type": "markdown",
   "id": "c65415c3-ca7c-45c4-b695-a5c451fcd791",
   "metadata": {},
   "source": [
    "---\n",
    "# MKG\n",
    "\n",
    "# TODO\n",
    "\n",
    " - translate string constants into German:\n",
    "   - get_texts\n",
    "   - get_presentation_records\n",
    "   - human_readable_dates\n",
    " - "
   ]
  },
  {
   "cell_type": "code",
   "execution_count": 16,
   "id": "41488e68-6458-4ea8-b994-b1e09dab0ae2",
   "metadata": {},
   "outputs": [
    {
     "name": "stderr",
     "output_type": "stream",
     "text": [
      "100%|█████████████████████████████████████████████████████████████████████| 26294/26294 [00:00<00:00, 282099.30it/s]\n"
     ]
    }
   ],
   "source": [
    "from data import ImageHandler, CollectionAccessor\n",
    "\n",
    "image_folder = \"./MKG/images\"\n",
    "image_handler = ImageHandler(\"MKG\", image_folder, keep_prefix=True)\n",
    "\n",
    "\n",
    "time_stamp = \"2025-06-05\"\n",
    "mkg_meta = dict(name=\"Museum Kunst & Gewerbe\", id_=\"MKG_\"+time_stamp,\n",
    "                creation_timestamp=time_stamp, language=\"de\")\n",
    "mkg = CollectionAccessor.get_MKG(metadata_path=\"./MKG/dumps/extraction_v0_1.csv\",\n",
    "                                image_handler=image_handler,\n",
    "                                **mkg_meta)"
   ]
  },
  {
   "cell_type": "code",
   "execution_count": 13,
   "id": "272a49f8-79fb-4a8b-8c7e-08d7ea9dddcf",
   "metadata": {},
   "outputs": [
    {
     "data": {
      "text/plain": [
       "492"
      ]
     },
     "execution_count": 13,
     "metadata": {},
     "output_type": "execute_result"
    }
   ],
   "source": [
    "mkg.image_path.notna().sum()"
   ]
  },
  {
   "cell_type": "code",
   "execution_count": 17,
   "id": "3c0cea88-f2fc-4309-8bc4-9105ba0efc19",
   "metadata": {},
   "outputs": [
    {
     "data": {
      "text/plain": [
       "object_number\n",
       "1924.155        ./MKG/images/1924.155.jpg\n",
       "1964.273        ./MKG/images/1964.273.jpg\n",
       "1965.93          ./MKG/images/1965.93.jpg\n",
       "1954.9            ./MKG/images/1954.9.jpg\n",
       "1961.13          ./MKG/images/1961.13.jpg\n",
       "                         ...             \n",
       "P2017.96.5    ./MKG/images/P2017.96.5.jpg\n",
       "P2017.96.6    ./MKG/images/P2017.96.6.jpg\n",
       "P2017.96.7    ./MKG/images/P2017.96.7.jpg\n",
       "P2017.96.8    ./MKG/images/P2017.96.8.jpg\n",
       "P2017.96.9    ./MKG/images/P2017.96.9.jpg\n",
       "Name: image_path, Length: 492, dtype: object"
      ]
     },
     "execution_count": 17,
     "metadata": {},
     "output_type": "execute_result"
    }
   ],
   "source": [
    "mkg.image_path.dropna()"
   ]
  },
  {
   "cell_type": "markdown",
   "id": "5eaf8d6e-1bd1-41d1-8eae-43422570973a",
   "metadata": {},
   "source": [
    "---\n",
    "\n",
    "# ImageHandlers"
   ]
  },
  {
   "cell_type": "code",
   "execution_count": null,
   "id": "c563146f-5bcc-4252-889f-1d8b3058bc59",
   "metadata": {},
   "outputs": [],
   "source": [
    "import os\n",
    "f = \"~/Desktop/SerendipitySearch/searcher_backend/second_web_backend/data/data.py\"\n",
    "print(os.path.basename(f))\n",
    "print(os.path.splitext(f))\n",
    "\n",
    "print()\n",
    "print(os.path.splitext(os.path.basename(f)))"
   ]
  },
  {
   "cell_type": "code",
   "execution_count": 20,
   "id": "e39f3121-03cb-44cb-8411-03ec6fb41e3b",
   "metadata": {},
   "outputs": [
    {
     "data": {
      "text/plain": [
       "0             1977\n",
       "1             1967\n",
       "2             1905\n",
       "3             1924\n",
       "4             1919\n",
       "           ...    \n",
       "26294    P2020.130\n",
       "26295    P2020.130\n",
       "26296    P2020.130\n",
       "26297    P2020.130\n",
       "26298     P2020.64\n",
       "Name: object_number, Length: 26299, dtype: object"
      ]
     },
     "execution_count": 20,
     "metadata": {},
     "output_type": "execute_result"
    }
   ],
   "source": [
    "image_handler.object_number_from_path(mkg.reset_index().object_number)"
   ]
  },
  {
   "cell_type": "code",
   "execution_count": 20,
   "id": "72fe207d-27fb-4f17-80fd-6a0649005469",
   "metadata": {},
   "outputs": [
    {
     "data": {
      "text/plain": [
       "object_number\n",
       "1924.155        ./MKG/images/1924.155.jpg\n",
       "1964.273        ./MKG/images/1964.273.jpg\n",
       "1965.93          ./MKG/images/1965.93.jpg\n",
       "1954.9            ./MKG/images/1954.9.jpg\n",
       "1961.13          ./MKG/images/1961.13.jpg\n",
       "                         ...             \n",
       "P2017.96.5    ./MKG/images/P2017.96.5.jpg\n",
       "P2017.96.6    ./MKG/images/P2017.96.6.jpg\n",
       "P2017.96.7    ./MKG/images/P2017.96.7.jpg\n",
       "P2017.96.8    ./MKG/images/P2017.96.8.jpg\n",
       "P2017.96.9    ./MKG/images/P2017.96.9.jpg\n",
       "Name: image_path, Length: 492, dtype: object"
      ]
     },
     "execution_count": 20,
     "metadata": {},
     "output_type": "execute_result"
    }
   ],
   "source": [
    "mkg.image_path.dropna()"
   ]
  },
  {
   "cell_type": "markdown",
   "id": "3dadf6cd-cc68-464b-92f5-2ae7c858dd93",
   "metadata": {},
   "source": [
    "---\n",
    "\n",
    "# MKG image downloads"
   ]
  },
  {
   "cell_type": "code",
   "execution_count": 2,
   "id": "3e6b9876-ac2a-48fa-95d0-ee40112a39be",
   "metadata": {},
   "outputs": [],
   "source": [
    "from tqdm import tqdm \n",
    "\n",
    "import requests as req\n",
    "import pandas as pd\n",
    "from time import sleep\n",
    "import os\n",
    "\n",
    "BASE_DIR = \"./MKG/dumps\"\n",
    "IMG_DIR = \"./MKG/images\"\n",
    "\n",
    "\n",
    "# if True:\n",
    "df = pd.read_csv(BASE_DIR + \"/extraction_v0_1.csv\")\n",
    "    \n",
    "cur_df = df.dropna(subset=\"img_url\")\n",
    "    \n",
    "# for i, r in tqdm(cur_df.iterrows(), total=len(cur_df)):\n",
    "    # if r.img_url:\n"
   ]
  },
  {
   "cell_type": "code",
   "execution_count": 7,
   "id": "59407044-bac9-406a-a065-869289c334be",
   "metadata": {},
   "outputs": [
    {
     "data": {
      "text/plain": [
       "'http://digicult-web.digicult-verbund.de/entity-resources/images/digicult-web-mkg/1/P1976.807+1.jpg'"
      ]
     },
     "execution_count": 7,
     "metadata": {},
     "output_type": "execute_result"
    }
   ],
   "source": [
    "cur_df.img_url.sample(1).iloc[0]"
   ]
  }
 ],
 "metadata": {
  "kernelspec": {
   "display_name": "Python 3 (ipykernel)",
   "language": "python",
   "name": "python3"
  },
  "language_info": {
   "codemirror_mode": {
    "name": "ipython",
    "version": 3
   },
   "file_extension": ".py",
   "mimetype": "text/x-python",
   "name": "python",
   "nbconvert_exporter": "python",
   "pygments_lexer": "ipython3",
   "version": "3.12.7"
  }
 },
 "nbformat": 4,
 "nbformat_minor": 5
}
